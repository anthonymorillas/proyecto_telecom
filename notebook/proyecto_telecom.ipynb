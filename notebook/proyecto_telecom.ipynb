{
 "cells": [
  {
   "cell_type": "markdown",
   "metadata": {},
   "source": [
    "### PROYECTO FINAL"
   ]
  },
  {
   "cell_type": "markdown",
   "metadata": {},
   "source": [
    "En este proyecto se trabajarán con los datos de la compañía Interconnect, que es un operador de telecomunicaciones.\n",
    "\n",
    "- Problema a resolver:\n",
    "\n",
    "Al operador de telecomunicaciones Interconnect le gustaría poder pronosticar su tasa de cancelación de clientes.\n",
    "\n",
    "Si se descubre que un usuario o usuaria planea irse, se le ofrecerán códigos promocionales y opciones de planes especiales.\n",
    "\n",
    "El equipo de marketing de Interconnect ha recopilado algunos de los datos personales de sus clientes, incluyendo información sobre sus planes y contratos."
   ]
  },
  {
   "cell_type": "code",
   "execution_count": 1,
   "metadata": {},
   "outputs": [
    {
     "name": "stderr",
     "output_type": "stream",
     "text": [
      "c:\\Users\\antho\\anaconda3\\Lib\\site-packages\\dask\\dataframe\\_pyarrow_compat.py:23: UserWarning: You are using pyarrow version 11.0.0 which is known to be insecure. See https://www.cve.org/CVERecord?id=CVE-2023-47248 for further details. Please upgrade to pyarrow>=14.0.1 or install pyarrow-hotfix to patch your current version.\n",
      "  warnings.warn(\n"
     ]
    }
   ],
   "source": [
    "#Importación de Librerías\n",
    "\n",
    "import pandas as pd\n",
    "import matplotlib.pyplot as plt\n",
    "from sklearn.model_selection import train_test_split\n",
    "from sklearn.preprocessing import StandardScaler\n",
    "from sklearn.tree import DecisionTreeClassifier\n",
    "from sklearn.metrics import roc_auc_score, accuracy_score\n",
    "import numpy as np\n",
    "from sklearn.ensemble import RandomForestClassifier\n",
    "from sklearn.ensemble import RandomForestRegressor\n",
    "from sklearn.model_selection import GridSearchCV\n",
    "from sklearn.linear_model import LinearRegression\n",
    "import lightgbm as lgb\n",
    "from sklearn.metrics import mean_absolute_error\n",
    "from sklearn.linear_model import LogisticRegression\n",
    "from sklearn.utils import shuffle\n",
    "from xgboost import XGBClassifier\n",
    "from sklearn.neighbors import KNeighborsClassifier\n",
    "from sklearn.neural_network import MLPClassifier"
   ]
  },
  {
   "cell_type": "code",
   "execution_count": 2,
   "metadata": {},
   "outputs": [],
   "source": [
    "#Importación de dataframes\n",
    "\n",
    "try:\n",
    "    df_contract = pd.read_csv('contract.csv')\n",
    "    df_internet = pd.read_csv('internet.csv')\n",
    "    df_personal = pd.read_csv('personal.csv')\n",
    "    df_phone = pd.read_csv('phone.csv')\n",
    "except:\n",
    "    df_contract = pd.read_csv('/datasets/contract.csv')\n",
    "    df_internet = pd.read_csv('/datasets/internet.csv')\n",
    "    df_personal = pd.read_csv('/datasets/personal.csv')\n",
    "    df_phone = pd.read_csv('/datasets/phone.csv')"
   ]
  },
  {
   "cell_type": "markdown",
   "metadata": {},
   "source": [
    "### Descripción de los datos\n",
    "\n",
    "Los datos consisten en 4 archivos obtenidos de diferentes fuentes:\n",
    "\n",
    "- `contract.csv` — información del contrato;\n",
    "- `personal.csv` — datos personales del cliente;\n",
    "- `internet.csv` — información sobre los servicios de Internet;\n",
    "- `phone.csv` — información sobre los servicios telefónicos.\n",
    "\n",
    "En cada archivo, la columna `customerID` (ID de cliente) contiene un código único asignado a cada cliente."
   ]
  },
  {
   "cell_type": "markdown",
   "metadata": {},
   "source": [
    "### Análisis exploratorio"
   ]
  },
  {
   "cell_type": "markdown",
   "metadata": {},
   "source": [
    "### Dataframe 'contract'"
   ]
  },
  {
   "cell_type": "code",
   "execution_count": 3,
   "metadata": {},
   "outputs": [
    {
     "data": {
      "text/html": [
       "<div>\n",
       "<style scoped>\n",
       "    .dataframe tbody tr th:only-of-type {\n",
       "        vertical-align: middle;\n",
       "    }\n",
       "\n",
       "    .dataframe tbody tr th {\n",
       "        vertical-align: top;\n",
       "    }\n",
       "\n",
       "    .dataframe thead th {\n",
       "        text-align: right;\n",
       "    }\n",
       "</style>\n",
       "<table border=\"1\" class=\"dataframe\">\n",
       "  <thead>\n",
       "    <tr style=\"text-align: right;\">\n",
       "      <th></th>\n",
       "      <th>customerID</th>\n",
       "      <th>BeginDate</th>\n",
       "      <th>EndDate</th>\n",
       "      <th>Type</th>\n",
       "      <th>PaperlessBilling</th>\n",
       "      <th>PaymentMethod</th>\n",
       "      <th>MonthlyCharges</th>\n",
       "      <th>TotalCharges</th>\n",
       "    </tr>\n",
       "  </thead>\n",
       "  <tbody>\n",
       "    <tr>\n",
       "      <th>0</th>\n",
       "      <td>7590-VHVEG</td>\n",
       "      <td>2020-01-01</td>\n",
       "      <td>No</td>\n",
       "      <td>Month-to-month</td>\n",
       "      <td>Yes</td>\n",
       "      <td>Electronic check</td>\n",
       "      <td>29.85</td>\n",
       "      <td>29.85</td>\n",
       "    </tr>\n",
       "    <tr>\n",
       "      <th>1</th>\n",
       "      <td>5575-GNVDE</td>\n",
       "      <td>2017-04-01</td>\n",
       "      <td>No</td>\n",
       "      <td>One year</td>\n",
       "      <td>No</td>\n",
       "      <td>Mailed check</td>\n",
       "      <td>56.95</td>\n",
       "      <td>1889.5</td>\n",
       "    </tr>\n",
       "    <tr>\n",
       "      <th>2</th>\n",
       "      <td>3668-QPYBK</td>\n",
       "      <td>2019-10-01</td>\n",
       "      <td>2019-12-01 00:00:00</td>\n",
       "      <td>Month-to-month</td>\n",
       "      <td>Yes</td>\n",
       "      <td>Mailed check</td>\n",
       "      <td>53.85</td>\n",
       "      <td>108.15</td>\n",
       "    </tr>\n",
       "    <tr>\n",
       "      <th>3</th>\n",
       "      <td>7795-CFOCW</td>\n",
       "      <td>2016-05-01</td>\n",
       "      <td>No</td>\n",
       "      <td>One year</td>\n",
       "      <td>No</td>\n",
       "      <td>Bank transfer (automatic)</td>\n",
       "      <td>42.30</td>\n",
       "      <td>1840.75</td>\n",
       "    </tr>\n",
       "    <tr>\n",
       "      <th>4</th>\n",
       "      <td>9237-HQITU</td>\n",
       "      <td>2019-09-01</td>\n",
       "      <td>2019-11-01 00:00:00</td>\n",
       "      <td>Month-to-month</td>\n",
       "      <td>Yes</td>\n",
       "      <td>Electronic check</td>\n",
       "      <td>70.70</td>\n",
       "      <td>151.65</td>\n",
       "    </tr>\n",
       "  </tbody>\n",
       "</table>\n",
       "</div>"
      ],
      "text/plain": [
       "   customerID   BeginDate              EndDate            Type  \\\n",
       "0  7590-VHVEG  2020-01-01                   No  Month-to-month   \n",
       "1  5575-GNVDE  2017-04-01                   No        One year   \n",
       "2  3668-QPYBK  2019-10-01  2019-12-01 00:00:00  Month-to-month   \n",
       "3  7795-CFOCW  2016-05-01                   No        One year   \n",
       "4  9237-HQITU  2019-09-01  2019-11-01 00:00:00  Month-to-month   \n",
       "\n",
       "  PaperlessBilling              PaymentMethod  MonthlyCharges TotalCharges  \n",
       "0              Yes           Electronic check           29.85        29.85  \n",
       "1               No               Mailed check           56.95       1889.5  \n",
       "2              Yes               Mailed check           53.85       108.15  \n",
       "3               No  Bank transfer (automatic)           42.30      1840.75  \n",
       "4              Yes           Electronic check           70.70       151.65  "
      ]
     },
     "execution_count": 3,
     "metadata": {},
     "output_type": "execute_result"
    }
   ],
   "source": [
    "df_contract.head()"
   ]
  },
  {
   "cell_type": "code",
   "execution_count": 4,
   "metadata": {},
   "outputs": [
    {
     "name": "stdout",
     "output_type": "stream",
     "text": [
      "<class 'pandas.core.frame.DataFrame'>\n",
      "RangeIndex: 7043 entries, 0 to 7042\n",
      "Data columns (total 8 columns):\n",
      " #   Column            Non-Null Count  Dtype  \n",
      "---  ------            --------------  -----  \n",
      " 0   customerID        7043 non-null   object \n",
      " 1   BeginDate         7043 non-null   object \n",
      " 2   EndDate           7043 non-null   object \n",
      " 3   Type              7043 non-null   object \n",
      " 4   PaperlessBilling  7043 non-null   object \n",
      " 5   PaymentMethod     7043 non-null   object \n",
      " 6   MonthlyCharges    7043 non-null   float64\n",
      " 7   TotalCharges      7043 non-null   object \n",
      "dtypes: float64(1), object(7)\n",
      "memory usage: 440.3+ KB\n"
     ]
    }
   ],
   "source": [
    "df_contract.info()"
   ]
  },
  {
   "cell_type": "markdown",
   "metadata": {},
   "source": [
    "- En este punto se descubrirá por qué 'TotalCharges' es tipo Object y no númerico.\n",
    "- Se revisará si hay valores ausentes."
   ]
  },
  {
   "cell_type": "code",
   "execution_count": 5,
   "metadata": {},
   "outputs": [
    {
     "name": "stdout",
     "output_type": "stream",
     "text": [
      "[' ' '100.2' '100.25' ... '999.45' '999.8' '999.9']\n"
     ]
    }
   ],
   "source": [
    "valores_unicos = df_contract['TotalCharges'].unique()\n",
    "valores_unicos_ordenados = np.sort(valores_unicos)\n",
    "print(valores_unicos_ordenados)"
   ]
  },
  {
   "cell_type": "code",
   "execution_count": 6,
   "metadata": {},
   "outputs": [
    {
     "data": {
      "text/html": [
       "<div>\n",
       "<style scoped>\n",
       "    .dataframe tbody tr th:only-of-type {\n",
       "        vertical-align: middle;\n",
       "    }\n",
       "\n",
       "    .dataframe tbody tr th {\n",
       "        vertical-align: top;\n",
       "    }\n",
       "\n",
       "    .dataframe thead th {\n",
       "        text-align: right;\n",
       "    }\n",
       "</style>\n",
       "<table border=\"1\" class=\"dataframe\">\n",
       "  <thead>\n",
       "    <tr style=\"text-align: right;\">\n",
       "      <th></th>\n",
       "      <th>customerID</th>\n",
       "      <th>BeginDate</th>\n",
       "      <th>EndDate</th>\n",
       "      <th>Type</th>\n",
       "      <th>PaperlessBilling</th>\n",
       "      <th>PaymentMethod</th>\n",
       "      <th>MonthlyCharges</th>\n",
       "      <th>TotalCharges</th>\n",
       "    </tr>\n",
       "  </thead>\n",
       "  <tbody>\n",
       "    <tr>\n",
       "      <th>488</th>\n",
       "      <td>4472-LVYGI</td>\n",
       "      <td>2020-02-01</td>\n",
       "      <td>No</td>\n",
       "      <td>Two year</td>\n",
       "      <td>Yes</td>\n",
       "      <td>Bank transfer (automatic)</td>\n",
       "      <td>52.55</td>\n",
       "      <td></td>\n",
       "    </tr>\n",
       "    <tr>\n",
       "      <th>753</th>\n",
       "      <td>3115-CZMZD</td>\n",
       "      <td>2020-02-01</td>\n",
       "      <td>No</td>\n",
       "      <td>Two year</td>\n",
       "      <td>No</td>\n",
       "      <td>Mailed check</td>\n",
       "      <td>20.25</td>\n",
       "      <td></td>\n",
       "    </tr>\n",
       "    <tr>\n",
       "      <th>936</th>\n",
       "      <td>5709-LVOEQ</td>\n",
       "      <td>2020-02-01</td>\n",
       "      <td>No</td>\n",
       "      <td>Two year</td>\n",
       "      <td>No</td>\n",
       "      <td>Mailed check</td>\n",
       "      <td>80.85</td>\n",
       "      <td></td>\n",
       "    </tr>\n",
       "    <tr>\n",
       "      <th>1082</th>\n",
       "      <td>4367-NUYAO</td>\n",
       "      <td>2020-02-01</td>\n",
       "      <td>No</td>\n",
       "      <td>Two year</td>\n",
       "      <td>No</td>\n",
       "      <td>Mailed check</td>\n",
       "      <td>25.75</td>\n",
       "      <td></td>\n",
       "    </tr>\n",
       "    <tr>\n",
       "      <th>1340</th>\n",
       "      <td>1371-DWPAZ</td>\n",
       "      <td>2020-02-01</td>\n",
       "      <td>No</td>\n",
       "      <td>Two year</td>\n",
       "      <td>No</td>\n",
       "      <td>Credit card (automatic)</td>\n",
       "      <td>56.05</td>\n",
       "      <td></td>\n",
       "    </tr>\n",
       "    <tr>\n",
       "      <th>3331</th>\n",
       "      <td>7644-OMVMY</td>\n",
       "      <td>2020-02-01</td>\n",
       "      <td>No</td>\n",
       "      <td>Two year</td>\n",
       "      <td>No</td>\n",
       "      <td>Mailed check</td>\n",
       "      <td>19.85</td>\n",
       "      <td></td>\n",
       "    </tr>\n",
       "    <tr>\n",
       "      <th>3826</th>\n",
       "      <td>3213-VVOLG</td>\n",
       "      <td>2020-02-01</td>\n",
       "      <td>No</td>\n",
       "      <td>Two year</td>\n",
       "      <td>No</td>\n",
       "      <td>Mailed check</td>\n",
       "      <td>25.35</td>\n",
       "      <td></td>\n",
       "    </tr>\n",
       "    <tr>\n",
       "      <th>4380</th>\n",
       "      <td>2520-SGTTA</td>\n",
       "      <td>2020-02-01</td>\n",
       "      <td>No</td>\n",
       "      <td>Two year</td>\n",
       "      <td>No</td>\n",
       "      <td>Mailed check</td>\n",
       "      <td>20.00</td>\n",
       "      <td></td>\n",
       "    </tr>\n",
       "    <tr>\n",
       "      <th>5218</th>\n",
       "      <td>2923-ARZLG</td>\n",
       "      <td>2020-02-01</td>\n",
       "      <td>No</td>\n",
       "      <td>One year</td>\n",
       "      <td>Yes</td>\n",
       "      <td>Mailed check</td>\n",
       "      <td>19.70</td>\n",
       "      <td></td>\n",
       "    </tr>\n",
       "    <tr>\n",
       "      <th>6670</th>\n",
       "      <td>4075-WKNIU</td>\n",
       "      <td>2020-02-01</td>\n",
       "      <td>No</td>\n",
       "      <td>Two year</td>\n",
       "      <td>No</td>\n",
       "      <td>Mailed check</td>\n",
       "      <td>73.35</td>\n",
       "      <td></td>\n",
       "    </tr>\n",
       "    <tr>\n",
       "      <th>6754</th>\n",
       "      <td>2775-SEFEE</td>\n",
       "      <td>2020-02-01</td>\n",
       "      <td>No</td>\n",
       "      <td>Two year</td>\n",
       "      <td>Yes</td>\n",
       "      <td>Bank transfer (automatic)</td>\n",
       "      <td>61.90</td>\n",
       "      <td></td>\n",
       "    </tr>\n",
       "  </tbody>\n",
       "</table>\n",
       "</div>"
      ],
      "text/plain": [
       "      customerID   BeginDate EndDate      Type PaperlessBilling  \\\n",
       "488   4472-LVYGI  2020-02-01      No  Two year              Yes   \n",
       "753   3115-CZMZD  2020-02-01      No  Two year               No   \n",
       "936   5709-LVOEQ  2020-02-01      No  Two year               No   \n",
       "1082  4367-NUYAO  2020-02-01      No  Two year               No   \n",
       "1340  1371-DWPAZ  2020-02-01      No  Two year               No   \n",
       "3331  7644-OMVMY  2020-02-01      No  Two year               No   \n",
       "3826  3213-VVOLG  2020-02-01      No  Two year               No   \n",
       "4380  2520-SGTTA  2020-02-01      No  Two year               No   \n",
       "5218  2923-ARZLG  2020-02-01      No  One year              Yes   \n",
       "6670  4075-WKNIU  2020-02-01      No  Two year               No   \n",
       "6754  2775-SEFEE  2020-02-01      No  Two year              Yes   \n",
       "\n",
       "                  PaymentMethod  MonthlyCharges TotalCharges  \n",
       "488   Bank transfer (automatic)           52.55               \n",
       "753                Mailed check           20.25               \n",
       "936                Mailed check           80.85               \n",
       "1082               Mailed check           25.75               \n",
       "1340    Credit card (automatic)           56.05               \n",
       "3331               Mailed check           19.85               \n",
       "3826               Mailed check           25.35               \n",
       "4380               Mailed check           20.00               \n",
       "5218               Mailed check           19.70               \n",
       "6670               Mailed check           73.35               \n",
       "6754  Bank transfer (automatic)           61.90               "
      ]
     },
     "execution_count": 6,
     "metadata": {},
     "output_type": "execute_result"
    }
   ],
   "source": [
    "df_contract[df_contract['TotalCharges'] == ' ']"
   ]
  },
  {
   "cell_type": "markdown",
   "metadata": {},
   "source": [
    "- Efectivamente la columna tiene valores ausentes, pero que en realidad el valor es un espacio (' '), por esto mismo, no se estaba considerando como un ausente propiamente tal.\n",
    "- Estos valores vacíos son nuevos contratos que llevan menos de un mes, por lo que tiene sentido que no tengan un acumulado de cobros."
   ]
  },
  {
   "cell_type": "markdown",
   "metadata": {},
   "source": [
    "### Dataframe 'internet'"
   ]
  },
  {
   "cell_type": "code",
   "execution_count": 7,
   "metadata": {},
   "outputs": [
    {
     "data": {
      "text/html": [
       "<div>\n",
       "<style scoped>\n",
       "    .dataframe tbody tr th:only-of-type {\n",
       "        vertical-align: middle;\n",
       "    }\n",
       "\n",
       "    .dataframe tbody tr th {\n",
       "        vertical-align: top;\n",
       "    }\n",
       "\n",
       "    .dataframe thead th {\n",
       "        text-align: right;\n",
       "    }\n",
       "</style>\n",
       "<table border=\"1\" class=\"dataframe\">\n",
       "  <thead>\n",
       "    <tr style=\"text-align: right;\">\n",
       "      <th></th>\n",
       "      <th>customerID</th>\n",
       "      <th>InternetService</th>\n",
       "      <th>OnlineSecurity</th>\n",
       "      <th>OnlineBackup</th>\n",
       "      <th>DeviceProtection</th>\n",
       "      <th>TechSupport</th>\n",
       "      <th>StreamingTV</th>\n",
       "      <th>StreamingMovies</th>\n",
       "    </tr>\n",
       "  </thead>\n",
       "  <tbody>\n",
       "    <tr>\n",
       "      <th>0</th>\n",
       "      <td>7590-VHVEG</td>\n",
       "      <td>DSL</td>\n",
       "      <td>No</td>\n",
       "      <td>Yes</td>\n",
       "      <td>No</td>\n",
       "      <td>No</td>\n",
       "      <td>No</td>\n",
       "      <td>No</td>\n",
       "    </tr>\n",
       "    <tr>\n",
       "      <th>1</th>\n",
       "      <td>5575-GNVDE</td>\n",
       "      <td>DSL</td>\n",
       "      <td>Yes</td>\n",
       "      <td>No</td>\n",
       "      <td>Yes</td>\n",
       "      <td>No</td>\n",
       "      <td>No</td>\n",
       "      <td>No</td>\n",
       "    </tr>\n",
       "    <tr>\n",
       "      <th>2</th>\n",
       "      <td>3668-QPYBK</td>\n",
       "      <td>DSL</td>\n",
       "      <td>Yes</td>\n",
       "      <td>Yes</td>\n",
       "      <td>No</td>\n",
       "      <td>No</td>\n",
       "      <td>No</td>\n",
       "      <td>No</td>\n",
       "    </tr>\n",
       "    <tr>\n",
       "      <th>3</th>\n",
       "      <td>7795-CFOCW</td>\n",
       "      <td>DSL</td>\n",
       "      <td>Yes</td>\n",
       "      <td>No</td>\n",
       "      <td>Yes</td>\n",
       "      <td>Yes</td>\n",
       "      <td>No</td>\n",
       "      <td>No</td>\n",
       "    </tr>\n",
       "    <tr>\n",
       "      <th>4</th>\n",
       "      <td>9237-HQITU</td>\n",
       "      <td>Fiber optic</td>\n",
       "      <td>No</td>\n",
       "      <td>No</td>\n",
       "      <td>No</td>\n",
       "      <td>No</td>\n",
       "      <td>No</td>\n",
       "      <td>No</td>\n",
       "    </tr>\n",
       "  </tbody>\n",
       "</table>\n",
       "</div>"
      ],
      "text/plain": [
       "   customerID InternetService OnlineSecurity OnlineBackup DeviceProtection  \\\n",
       "0  7590-VHVEG             DSL             No          Yes               No   \n",
       "1  5575-GNVDE             DSL            Yes           No              Yes   \n",
       "2  3668-QPYBK             DSL            Yes          Yes               No   \n",
       "3  7795-CFOCW             DSL            Yes           No              Yes   \n",
       "4  9237-HQITU     Fiber optic             No           No               No   \n",
       "\n",
       "  TechSupport StreamingTV StreamingMovies  \n",
       "0          No          No              No  \n",
       "1          No          No              No  \n",
       "2          No          No              No  \n",
       "3         Yes          No              No  \n",
       "4          No          No              No  "
      ]
     },
     "execution_count": 7,
     "metadata": {},
     "output_type": "execute_result"
    }
   ],
   "source": [
    "df_internet.head()"
   ]
  },
  {
   "cell_type": "code",
   "execution_count": 8,
   "metadata": {},
   "outputs": [
    {
     "name": "stdout",
     "output_type": "stream",
     "text": [
      "<class 'pandas.core.frame.DataFrame'>\n",
      "RangeIndex: 5517 entries, 0 to 5516\n",
      "Data columns (total 8 columns):\n",
      " #   Column            Non-Null Count  Dtype \n",
      "---  ------            --------------  ----- \n",
      " 0   customerID        5517 non-null   object\n",
      " 1   InternetService   5517 non-null   object\n",
      " 2   OnlineSecurity    5517 non-null   object\n",
      " 3   OnlineBackup      5517 non-null   object\n",
      " 4   DeviceProtection  5517 non-null   object\n",
      " 5   TechSupport       5517 non-null   object\n",
      " 6   StreamingTV       5517 non-null   object\n",
      " 7   StreamingMovies   5517 non-null   object\n",
      "dtypes: object(8)\n",
      "memory usage: 344.9+ KB\n"
     ]
    }
   ],
   "source": [
    "df_internet.info()"
   ]
  },
  {
   "cell_type": "markdown",
   "metadata": {},
   "source": [
    "- Sobre este dataframe se puede mencionar que tiene menos filas que el de contrato, esto puede deberse a que no todos los usuarios han contratado el servicio de internet."
   ]
  },
  {
   "cell_type": "markdown",
   "metadata": {},
   "source": [
    "### Dataframe 'personal'"
   ]
  },
  {
   "cell_type": "code",
   "execution_count": 9,
   "metadata": {},
   "outputs": [
    {
     "data": {
      "text/html": [
       "<div>\n",
       "<style scoped>\n",
       "    .dataframe tbody tr th:only-of-type {\n",
       "        vertical-align: middle;\n",
       "    }\n",
       "\n",
       "    .dataframe tbody tr th {\n",
       "        vertical-align: top;\n",
       "    }\n",
       "\n",
       "    .dataframe thead th {\n",
       "        text-align: right;\n",
       "    }\n",
       "</style>\n",
       "<table border=\"1\" class=\"dataframe\">\n",
       "  <thead>\n",
       "    <tr style=\"text-align: right;\">\n",
       "      <th></th>\n",
       "      <th>customerID</th>\n",
       "      <th>gender</th>\n",
       "      <th>SeniorCitizen</th>\n",
       "      <th>Partner</th>\n",
       "      <th>Dependents</th>\n",
       "    </tr>\n",
       "  </thead>\n",
       "  <tbody>\n",
       "    <tr>\n",
       "      <th>0</th>\n",
       "      <td>7590-VHVEG</td>\n",
       "      <td>Female</td>\n",
       "      <td>0</td>\n",
       "      <td>Yes</td>\n",
       "      <td>No</td>\n",
       "    </tr>\n",
       "    <tr>\n",
       "      <th>1</th>\n",
       "      <td>5575-GNVDE</td>\n",
       "      <td>Male</td>\n",
       "      <td>0</td>\n",
       "      <td>No</td>\n",
       "      <td>No</td>\n",
       "    </tr>\n",
       "    <tr>\n",
       "      <th>2</th>\n",
       "      <td>3668-QPYBK</td>\n",
       "      <td>Male</td>\n",
       "      <td>0</td>\n",
       "      <td>No</td>\n",
       "      <td>No</td>\n",
       "    </tr>\n",
       "    <tr>\n",
       "      <th>3</th>\n",
       "      <td>7795-CFOCW</td>\n",
       "      <td>Male</td>\n",
       "      <td>0</td>\n",
       "      <td>No</td>\n",
       "      <td>No</td>\n",
       "    </tr>\n",
       "    <tr>\n",
       "      <th>4</th>\n",
       "      <td>9237-HQITU</td>\n",
       "      <td>Female</td>\n",
       "      <td>0</td>\n",
       "      <td>No</td>\n",
       "      <td>No</td>\n",
       "    </tr>\n",
       "  </tbody>\n",
       "</table>\n",
       "</div>"
      ],
      "text/plain": [
       "   customerID  gender  SeniorCitizen Partner Dependents\n",
       "0  7590-VHVEG  Female              0     Yes         No\n",
       "1  5575-GNVDE    Male              0      No         No\n",
       "2  3668-QPYBK    Male              0      No         No\n",
       "3  7795-CFOCW    Male              0      No         No\n",
       "4  9237-HQITU  Female              0      No         No"
      ]
     },
     "execution_count": 9,
     "metadata": {},
     "output_type": "execute_result"
    }
   ],
   "source": [
    "df_personal.head()"
   ]
  },
  {
   "cell_type": "code",
   "execution_count": 10,
   "metadata": {},
   "outputs": [
    {
     "name": "stdout",
     "output_type": "stream",
     "text": [
      "<class 'pandas.core.frame.DataFrame'>\n",
      "RangeIndex: 7043 entries, 0 to 7042\n",
      "Data columns (total 5 columns):\n",
      " #   Column         Non-Null Count  Dtype \n",
      "---  ------         --------------  ----- \n",
      " 0   customerID     7043 non-null   object\n",
      " 1   gender         7043 non-null   object\n",
      " 2   SeniorCitizen  7043 non-null   int64 \n",
      " 3   Partner        7043 non-null   object\n",
      " 4   Dependents     7043 non-null   object\n",
      "dtypes: int64(1), object(4)\n",
      "memory usage: 275.2+ KB\n"
     ]
    }
   ],
   "source": [
    "df_personal.info()"
   ]
  },
  {
   "cell_type": "markdown",
   "metadata": {},
   "source": [
    "- Este dataframe muestra características personlas de los clientes, y las filas son las mismas que el df de contract, por lo que no hay valores ausentes."
   ]
  },
  {
   "cell_type": "markdown",
   "metadata": {},
   "source": [
    "### Dataframe 'phone'"
   ]
  },
  {
   "cell_type": "code",
   "execution_count": 11,
   "metadata": {},
   "outputs": [
    {
     "data": {
      "text/html": [
       "<div>\n",
       "<style scoped>\n",
       "    .dataframe tbody tr th:only-of-type {\n",
       "        vertical-align: middle;\n",
       "    }\n",
       "\n",
       "    .dataframe tbody tr th {\n",
       "        vertical-align: top;\n",
       "    }\n",
       "\n",
       "    .dataframe thead th {\n",
       "        text-align: right;\n",
       "    }\n",
       "</style>\n",
       "<table border=\"1\" class=\"dataframe\">\n",
       "  <thead>\n",
       "    <tr style=\"text-align: right;\">\n",
       "      <th></th>\n",
       "      <th>customerID</th>\n",
       "      <th>MultipleLines</th>\n",
       "    </tr>\n",
       "  </thead>\n",
       "  <tbody>\n",
       "    <tr>\n",
       "      <th>0</th>\n",
       "      <td>5575-GNVDE</td>\n",
       "      <td>No</td>\n",
       "    </tr>\n",
       "    <tr>\n",
       "      <th>1</th>\n",
       "      <td>3668-QPYBK</td>\n",
       "      <td>No</td>\n",
       "    </tr>\n",
       "    <tr>\n",
       "      <th>2</th>\n",
       "      <td>9237-HQITU</td>\n",
       "      <td>No</td>\n",
       "    </tr>\n",
       "    <tr>\n",
       "      <th>3</th>\n",
       "      <td>9305-CDSKC</td>\n",
       "      <td>Yes</td>\n",
       "    </tr>\n",
       "    <tr>\n",
       "      <th>4</th>\n",
       "      <td>1452-KIOVK</td>\n",
       "      <td>Yes</td>\n",
       "    </tr>\n",
       "  </tbody>\n",
       "</table>\n",
       "</div>"
      ],
      "text/plain": [
       "   customerID MultipleLines\n",
       "0  5575-GNVDE            No\n",
       "1  3668-QPYBK            No\n",
       "2  9237-HQITU            No\n",
       "3  9305-CDSKC           Yes\n",
       "4  1452-KIOVK           Yes"
      ]
     },
     "execution_count": 11,
     "metadata": {},
     "output_type": "execute_result"
    }
   ],
   "source": [
    "df_phone.head()"
   ]
  },
  {
   "cell_type": "code",
   "execution_count": 12,
   "metadata": {},
   "outputs": [
    {
     "name": "stdout",
     "output_type": "stream",
     "text": [
      "<class 'pandas.core.frame.DataFrame'>\n",
      "RangeIndex: 6361 entries, 0 to 6360\n",
      "Data columns (total 2 columns):\n",
      " #   Column         Non-Null Count  Dtype \n",
      "---  ------         --------------  ----- \n",
      " 0   customerID     6361 non-null   object\n",
      " 1   MultipleLines  6361 non-null   object\n",
      "dtypes: object(2)\n",
      "memory usage: 99.5+ KB\n"
     ]
    }
   ],
   "source": [
    "df_phone.info()"
   ]
  },
  {
   "cell_type": "markdown",
   "metadata": {},
   "source": [
    "- Sobre este dataframe se puede mencionar que tiene menos filas que el de contrato, esto puede deberse a que no todos los usuarios han contratado el servicio de teléfono."
   ]
  },
  {
   "cell_type": "markdown",
   "metadata": {},
   "source": [
    "### Consolidando los dataframes"
   ]
  },
  {
   "cell_type": "code",
   "execution_count": 13,
   "metadata": {},
   "outputs": [],
   "source": [
    "df_consolidado = pd.merge(df_contract, df_internet, on='customerID', how='outer')\n",
    "df_consolidado = pd.merge(df_consolidado, df_personal, on='customerID', how='outer')\n",
    "df_consolidado = pd.merge(df_consolidado, df_phone, on='customerID', how='outer')"
   ]
  },
  {
   "cell_type": "code",
   "execution_count": 14,
   "metadata": {},
   "outputs": [
    {
     "name": "stdout",
     "output_type": "stream",
     "text": [
      "<class 'pandas.core.frame.DataFrame'>\n",
      "RangeIndex: 7043 entries, 0 to 7042\n",
      "Data columns (total 20 columns):\n",
      " #   Column            Non-Null Count  Dtype  \n",
      "---  ------            --------------  -----  \n",
      " 0   customerID        7043 non-null   object \n",
      " 1   BeginDate         7043 non-null   object \n",
      " 2   EndDate           7043 non-null   object \n",
      " 3   Type              7043 non-null   object \n",
      " 4   PaperlessBilling  7043 non-null   object \n",
      " 5   PaymentMethod     7043 non-null   object \n",
      " 6   MonthlyCharges    7043 non-null   float64\n",
      " 7   TotalCharges      7043 non-null   object \n",
      " 8   InternetService   5517 non-null   object \n",
      " 9   OnlineSecurity    5517 non-null   object \n",
      " 10  OnlineBackup      5517 non-null   object \n",
      " 11  DeviceProtection  5517 non-null   object \n",
      " 12  TechSupport       5517 non-null   object \n",
      " 13  StreamingTV       5517 non-null   object \n",
      " 14  StreamingMovies   5517 non-null   object \n",
      " 15  gender            7043 non-null   object \n",
      " 16  SeniorCitizen     7043 non-null   int64  \n",
      " 17  Partner           7043 non-null   object \n",
      " 18  Dependents        7043 non-null   object \n",
      " 19  MultipleLines     6361 non-null   object \n",
      "dtypes: float64(1), int64(1), object(18)\n",
      "memory usage: 1.1+ MB\n"
     ]
    }
   ],
   "source": [
    "df_consolidado.info()"
   ]
  },
  {
   "cell_type": "code",
   "execution_count": 15,
   "metadata": {},
   "outputs": [
    {
     "data": {
      "text/html": [
       "<div>\n",
       "<style scoped>\n",
       "    .dataframe tbody tr th:only-of-type {\n",
       "        vertical-align: middle;\n",
       "    }\n",
       "\n",
       "    .dataframe tbody tr th {\n",
       "        vertical-align: top;\n",
       "    }\n",
       "\n",
       "    .dataframe thead th {\n",
       "        text-align: right;\n",
       "    }\n",
       "</style>\n",
       "<table border=\"1\" class=\"dataframe\">\n",
       "  <thead>\n",
       "    <tr style=\"text-align: right;\">\n",
       "      <th></th>\n",
       "      <th>customerID</th>\n",
       "      <th>BeginDate</th>\n",
       "      <th>EndDate</th>\n",
       "      <th>Type</th>\n",
       "      <th>PaperlessBilling</th>\n",
       "      <th>PaymentMethod</th>\n",
       "      <th>MonthlyCharges</th>\n",
       "      <th>TotalCharges</th>\n",
       "      <th>InternetService</th>\n",
       "      <th>OnlineSecurity</th>\n",
       "      <th>OnlineBackup</th>\n",
       "      <th>DeviceProtection</th>\n",
       "      <th>TechSupport</th>\n",
       "      <th>StreamingTV</th>\n",
       "      <th>StreamingMovies</th>\n",
       "      <th>gender</th>\n",
       "      <th>SeniorCitizen</th>\n",
       "      <th>Partner</th>\n",
       "      <th>Dependents</th>\n",
       "      <th>MultipleLines</th>\n",
       "    </tr>\n",
       "  </thead>\n",
       "  <tbody>\n",
       "    <tr>\n",
       "      <th>0</th>\n",
       "      <td>7590-VHVEG</td>\n",
       "      <td>2020-01-01</td>\n",
       "      <td>No</td>\n",
       "      <td>Month-to-month</td>\n",
       "      <td>Yes</td>\n",
       "      <td>Electronic check</td>\n",
       "      <td>29.85</td>\n",
       "      <td>29.85</td>\n",
       "      <td>DSL</td>\n",
       "      <td>No</td>\n",
       "      <td>Yes</td>\n",
       "      <td>No</td>\n",
       "      <td>No</td>\n",
       "      <td>No</td>\n",
       "      <td>No</td>\n",
       "      <td>Female</td>\n",
       "      <td>0</td>\n",
       "      <td>Yes</td>\n",
       "      <td>No</td>\n",
       "      <td>NaN</td>\n",
       "    </tr>\n",
       "    <tr>\n",
       "      <th>1</th>\n",
       "      <td>5575-GNVDE</td>\n",
       "      <td>2017-04-01</td>\n",
       "      <td>No</td>\n",
       "      <td>One year</td>\n",
       "      <td>No</td>\n",
       "      <td>Mailed check</td>\n",
       "      <td>56.95</td>\n",
       "      <td>1889.5</td>\n",
       "      <td>DSL</td>\n",
       "      <td>Yes</td>\n",
       "      <td>No</td>\n",
       "      <td>Yes</td>\n",
       "      <td>No</td>\n",
       "      <td>No</td>\n",
       "      <td>No</td>\n",
       "      <td>Male</td>\n",
       "      <td>0</td>\n",
       "      <td>No</td>\n",
       "      <td>No</td>\n",
       "      <td>No</td>\n",
       "    </tr>\n",
       "    <tr>\n",
       "      <th>2</th>\n",
       "      <td>3668-QPYBK</td>\n",
       "      <td>2019-10-01</td>\n",
       "      <td>2019-12-01 00:00:00</td>\n",
       "      <td>Month-to-month</td>\n",
       "      <td>Yes</td>\n",
       "      <td>Mailed check</td>\n",
       "      <td>53.85</td>\n",
       "      <td>108.15</td>\n",
       "      <td>DSL</td>\n",
       "      <td>Yes</td>\n",
       "      <td>Yes</td>\n",
       "      <td>No</td>\n",
       "      <td>No</td>\n",
       "      <td>No</td>\n",
       "      <td>No</td>\n",
       "      <td>Male</td>\n",
       "      <td>0</td>\n",
       "      <td>No</td>\n",
       "      <td>No</td>\n",
       "      <td>No</td>\n",
       "    </tr>\n",
       "    <tr>\n",
       "      <th>3</th>\n",
       "      <td>7795-CFOCW</td>\n",
       "      <td>2016-05-01</td>\n",
       "      <td>No</td>\n",
       "      <td>One year</td>\n",
       "      <td>No</td>\n",
       "      <td>Bank transfer (automatic)</td>\n",
       "      <td>42.30</td>\n",
       "      <td>1840.75</td>\n",
       "      <td>DSL</td>\n",
       "      <td>Yes</td>\n",
       "      <td>No</td>\n",
       "      <td>Yes</td>\n",
       "      <td>Yes</td>\n",
       "      <td>No</td>\n",
       "      <td>No</td>\n",
       "      <td>Male</td>\n",
       "      <td>0</td>\n",
       "      <td>No</td>\n",
       "      <td>No</td>\n",
       "      <td>NaN</td>\n",
       "    </tr>\n",
       "    <tr>\n",
       "      <th>4</th>\n",
       "      <td>9237-HQITU</td>\n",
       "      <td>2019-09-01</td>\n",
       "      <td>2019-11-01 00:00:00</td>\n",
       "      <td>Month-to-month</td>\n",
       "      <td>Yes</td>\n",
       "      <td>Electronic check</td>\n",
       "      <td>70.70</td>\n",
       "      <td>151.65</td>\n",
       "      <td>Fiber optic</td>\n",
       "      <td>No</td>\n",
       "      <td>No</td>\n",
       "      <td>No</td>\n",
       "      <td>No</td>\n",
       "      <td>No</td>\n",
       "      <td>No</td>\n",
       "      <td>Female</td>\n",
       "      <td>0</td>\n",
       "      <td>No</td>\n",
       "      <td>No</td>\n",
       "      <td>No</td>\n",
       "    </tr>\n",
       "  </tbody>\n",
       "</table>\n",
       "</div>"
      ],
      "text/plain": [
       "   customerID   BeginDate              EndDate            Type  \\\n",
       "0  7590-VHVEG  2020-01-01                   No  Month-to-month   \n",
       "1  5575-GNVDE  2017-04-01                   No        One year   \n",
       "2  3668-QPYBK  2019-10-01  2019-12-01 00:00:00  Month-to-month   \n",
       "3  7795-CFOCW  2016-05-01                   No        One year   \n",
       "4  9237-HQITU  2019-09-01  2019-11-01 00:00:00  Month-to-month   \n",
       "\n",
       "  PaperlessBilling              PaymentMethod  MonthlyCharges TotalCharges  \\\n",
       "0              Yes           Electronic check           29.85        29.85   \n",
       "1               No               Mailed check           56.95       1889.5   \n",
       "2              Yes               Mailed check           53.85       108.15   \n",
       "3               No  Bank transfer (automatic)           42.30      1840.75   \n",
       "4              Yes           Electronic check           70.70       151.65   \n",
       "\n",
       "  InternetService OnlineSecurity OnlineBackup DeviceProtection TechSupport  \\\n",
       "0             DSL             No          Yes               No          No   \n",
       "1             DSL            Yes           No              Yes          No   \n",
       "2             DSL            Yes          Yes               No          No   \n",
       "3             DSL            Yes           No              Yes         Yes   \n",
       "4     Fiber optic             No           No               No          No   \n",
       "\n",
       "  StreamingTV StreamingMovies  gender  SeniorCitizen Partner Dependents  \\\n",
       "0          No              No  Female              0     Yes         No   \n",
       "1          No              No    Male              0      No         No   \n",
       "2          No              No    Male              0      No         No   \n",
       "3          No              No    Male              0      No         No   \n",
       "4          No              No  Female              0      No         No   \n",
       "\n",
       "  MultipleLines  \n",
       "0           NaN  \n",
       "1            No  \n",
       "2            No  \n",
       "3           NaN  \n",
       "4            No  "
      ]
     },
     "execution_count": 15,
     "metadata": {},
     "output_type": "execute_result"
    }
   ],
   "source": [
    "df_consolidado.head()"
   ]
  },
  {
   "cell_type": "markdown",
   "metadata": {},
   "source": [
    "### Corrección de formatos"
   ]
  },
  {
   "cell_type": "markdown",
   "metadata": {},
   "source": [
    "- En el siguiente paso se convertirá la columna 'SeniorCitizen' al tiipo int8, que ahora es del tipo int64, esto con el fin de que al procesar los modelos, estos no tarden tanto tiempo, ni consuman tanta memoria."
   ]
  },
  {
   "cell_type": "code",
   "execution_count": 16,
   "metadata": {},
   "outputs": [],
   "source": [
    "df_consolidado['SeniorCitizen'] = df_consolidado['SeniorCitizen'].astype('int8')"
   ]
  },
  {
   "cell_type": "markdown",
   "metadata": {},
   "source": [
    "- En el siguiente paso se convertirál algunos tipos object a category, esto con el fin de mejorar la eficiencia en el procesamiento."
   ]
  },
  {
   "cell_type": "code",
   "execution_count": 17,
   "metadata": {},
   "outputs": [],
   "source": [
    "df_consolidado = df_consolidado.astype({'Type': 'category', 'PaperlessBilling': 'category', 'PaymentMethod': 'category','InternetService': 'category','OnlineSecurity': 'category','OnlineBackup': 'category',\n",
    "                                        'DeviceProtection': 'category', 'TechSupport': 'category', 'StreamingTV': 'category', 'StreamingMovies': 'category', 'gender': 'category',\n",
    "                                        'Partner': 'category', 'Dependents': 'category', 'MultipleLines': 'category'})"
   ]
  },
  {
   "cell_type": "code",
   "execution_count": 18,
   "metadata": {},
   "outputs": [
    {
     "name": "stdout",
     "output_type": "stream",
     "text": [
      "<class 'pandas.core.frame.DataFrame'>\n",
      "RangeIndex: 7043 entries, 0 to 7042\n",
      "Data columns (total 20 columns):\n",
      " #   Column            Non-Null Count  Dtype   \n",
      "---  ------            --------------  -----   \n",
      " 0   customerID        7043 non-null   object  \n",
      " 1   BeginDate         7043 non-null   object  \n",
      " 2   EndDate           7043 non-null   object  \n",
      " 3   Type              7043 non-null   category\n",
      " 4   PaperlessBilling  7043 non-null   category\n",
      " 5   PaymentMethod     7043 non-null   category\n",
      " 6   MonthlyCharges    7043 non-null   float64 \n",
      " 7   TotalCharges      7043 non-null   object  \n",
      " 8   InternetService   5517 non-null   category\n",
      " 9   OnlineSecurity    5517 non-null   category\n",
      " 10  OnlineBackup      5517 non-null   category\n",
      " 11  DeviceProtection  5517 non-null   category\n",
      " 12  TechSupport       5517 non-null   category\n",
      " 13  StreamingTV       5517 non-null   category\n",
      " 14  StreamingMovies   5517 non-null   category\n",
      " 15  gender            7043 non-null   category\n",
      " 16  SeniorCitizen     7043 non-null   int8    \n",
      " 17  Partner           7043 non-null   category\n",
      " 18  Dependents        7043 non-null   category\n",
      " 19  MultipleLines     6361 non-null   category\n",
      "dtypes: category(14), float64(1), int8(1), object(4)\n",
      "memory usage: 380.2+ KB\n"
     ]
    }
   ],
   "source": [
    "df_consolidado.info()"
   ]
  },
  {
   "cell_type": "markdown",
   "metadata": {},
   "source": [
    "- En este paso se convertirán los valores de la columna TotalCharge a float64, con el fin de poder comparalo con el valor del MonthlyCharges."
   ]
  },
  {
   "cell_type": "code",
   "execution_count": 19,
   "metadata": {},
   "outputs": [],
   "source": [
    "df_consolidado['TotalCharges'] = pd.to_numeric(df_consolidado['TotalCharges'], errors='coerce').astype('float64')"
   ]
  },
  {
   "cell_type": "markdown",
   "metadata": {},
   "source": [
    "- En este paso se convertirán las columnas 'BeginDate' y  'EndDate' a un formato 'datetime', con el fin de poder hacer cálculos con esos valores."
   ]
  },
  {
   "cell_type": "code",
   "execution_count": 20,
   "metadata": {},
   "outputs": [],
   "source": [
    "df_consolidado['BeginDate'] = pd.to_datetime(df_consolidado['BeginDate'], format='%Y-%m-%d')\n",
    "df_consolidado['EndDate'] = pd.to_datetime(df_consolidado['EndDate'], format='%Y-%m-%d %H:%M:%S', errors='coerce')\n"
   ]
  },
  {
   "cell_type": "code",
   "execution_count": 21,
   "metadata": {},
   "outputs": [
    {
     "data": {
      "text/plain": [
       "<DatetimeArray>\n",
       "[                'NaT', '2019-12-01 00:00:00', '2019-11-01 00:00:00',\n",
       " '2019-10-01 00:00:00', '2020-01-01 00:00:00']\n",
       "Length: 5, dtype: datetime64[ns]"
      ]
     },
     "execution_count": 21,
     "metadata": {},
     "output_type": "execute_result"
    }
   ],
   "source": [
    "df_consolidado['EndDate'].unique()"
   ]
  },
  {
   "cell_type": "code",
   "execution_count": 22,
   "metadata": {},
   "outputs": [
    {
     "data": {
      "text/html": [
       "<div>\n",
       "<style scoped>\n",
       "    .dataframe tbody tr th:only-of-type {\n",
       "        vertical-align: middle;\n",
       "    }\n",
       "\n",
       "    .dataframe tbody tr th {\n",
       "        vertical-align: top;\n",
       "    }\n",
       "\n",
       "    .dataframe thead th {\n",
       "        text-align: right;\n",
       "    }\n",
       "</style>\n",
       "<table border=\"1\" class=\"dataframe\">\n",
       "  <thead>\n",
       "    <tr style=\"text-align: right;\">\n",
       "      <th></th>\n",
       "      <th>customerID</th>\n",
       "      <th>BeginDate</th>\n",
       "      <th>EndDate</th>\n",
       "      <th>Type</th>\n",
       "      <th>PaperlessBilling</th>\n",
       "      <th>PaymentMethod</th>\n",
       "      <th>MonthlyCharges</th>\n",
       "      <th>TotalCharges</th>\n",
       "      <th>InternetService</th>\n",
       "      <th>OnlineSecurity</th>\n",
       "      <th>OnlineBackup</th>\n",
       "      <th>DeviceProtection</th>\n",
       "      <th>TechSupport</th>\n",
       "      <th>StreamingTV</th>\n",
       "      <th>StreamingMovies</th>\n",
       "      <th>gender</th>\n",
       "      <th>SeniorCitizen</th>\n",
       "      <th>Partner</th>\n",
       "      <th>Dependents</th>\n",
       "      <th>MultipleLines</th>\n",
       "    </tr>\n",
       "  </thead>\n",
       "  <tbody>\n",
       "    <tr>\n",
       "      <th>0</th>\n",
       "      <td>7590-VHVEG</td>\n",
       "      <td>2020-01-01</td>\n",
       "      <td>NaT</td>\n",
       "      <td>Month-to-month</td>\n",
       "      <td>Yes</td>\n",
       "      <td>Electronic check</td>\n",
       "      <td>29.85</td>\n",
       "      <td>29.85</td>\n",
       "      <td>DSL</td>\n",
       "      <td>No</td>\n",
       "      <td>Yes</td>\n",
       "      <td>No</td>\n",
       "      <td>No</td>\n",
       "      <td>No</td>\n",
       "      <td>No</td>\n",
       "      <td>Female</td>\n",
       "      <td>0</td>\n",
       "      <td>Yes</td>\n",
       "      <td>No</td>\n",
       "      <td>NaN</td>\n",
       "    </tr>\n",
       "    <tr>\n",
       "      <th>1</th>\n",
       "      <td>5575-GNVDE</td>\n",
       "      <td>2017-04-01</td>\n",
       "      <td>NaT</td>\n",
       "      <td>One year</td>\n",
       "      <td>No</td>\n",
       "      <td>Mailed check</td>\n",
       "      <td>56.95</td>\n",
       "      <td>1889.50</td>\n",
       "      <td>DSL</td>\n",
       "      <td>Yes</td>\n",
       "      <td>No</td>\n",
       "      <td>Yes</td>\n",
       "      <td>No</td>\n",
       "      <td>No</td>\n",
       "      <td>No</td>\n",
       "      <td>Male</td>\n",
       "      <td>0</td>\n",
       "      <td>No</td>\n",
       "      <td>No</td>\n",
       "      <td>No</td>\n",
       "    </tr>\n",
       "    <tr>\n",
       "      <th>2</th>\n",
       "      <td>3668-QPYBK</td>\n",
       "      <td>2019-10-01</td>\n",
       "      <td>2019-12-01</td>\n",
       "      <td>Month-to-month</td>\n",
       "      <td>Yes</td>\n",
       "      <td>Mailed check</td>\n",
       "      <td>53.85</td>\n",
       "      <td>108.15</td>\n",
       "      <td>DSL</td>\n",
       "      <td>Yes</td>\n",
       "      <td>Yes</td>\n",
       "      <td>No</td>\n",
       "      <td>No</td>\n",
       "      <td>No</td>\n",
       "      <td>No</td>\n",
       "      <td>Male</td>\n",
       "      <td>0</td>\n",
       "      <td>No</td>\n",
       "      <td>No</td>\n",
       "      <td>No</td>\n",
       "    </tr>\n",
       "    <tr>\n",
       "      <th>3</th>\n",
       "      <td>7795-CFOCW</td>\n",
       "      <td>2016-05-01</td>\n",
       "      <td>NaT</td>\n",
       "      <td>One year</td>\n",
       "      <td>No</td>\n",
       "      <td>Bank transfer (automatic)</td>\n",
       "      <td>42.30</td>\n",
       "      <td>1840.75</td>\n",
       "      <td>DSL</td>\n",
       "      <td>Yes</td>\n",
       "      <td>No</td>\n",
       "      <td>Yes</td>\n",
       "      <td>Yes</td>\n",
       "      <td>No</td>\n",
       "      <td>No</td>\n",
       "      <td>Male</td>\n",
       "      <td>0</td>\n",
       "      <td>No</td>\n",
       "      <td>No</td>\n",
       "      <td>NaN</td>\n",
       "    </tr>\n",
       "    <tr>\n",
       "      <th>4</th>\n",
       "      <td>9237-HQITU</td>\n",
       "      <td>2019-09-01</td>\n",
       "      <td>2019-11-01</td>\n",
       "      <td>Month-to-month</td>\n",
       "      <td>Yes</td>\n",
       "      <td>Electronic check</td>\n",
       "      <td>70.70</td>\n",
       "      <td>151.65</td>\n",
       "      <td>Fiber optic</td>\n",
       "      <td>No</td>\n",
       "      <td>No</td>\n",
       "      <td>No</td>\n",
       "      <td>No</td>\n",
       "      <td>No</td>\n",
       "      <td>No</td>\n",
       "      <td>Female</td>\n",
       "      <td>0</td>\n",
       "      <td>No</td>\n",
       "      <td>No</td>\n",
       "      <td>No</td>\n",
       "    </tr>\n",
       "  </tbody>\n",
       "</table>\n",
       "</div>"
      ],
      "text/plain": [
       "   customerID  BeginDate    EndDate            Type PaperlessBilling  \\\n",
       "0  7590-VHVEG 2020-01-01        NaT  Month-to-month              Yes   \n",
       "1  5575-GNVDE 2017-04-01        NaT        One year               No   \n",
       "2  3668-QPYBK 2019-10-01 2019-12-01  Month-to-month              Yes   \n",
       "3  7795-CFOCW 2016-05-01        NaT        One year               No   \n",
       "4  9237-HQITU 2019-09-01 2019-11-01  Month-to-month              Yes   \n",
       "\n",
       "               PaymentMethod  MonthlyCharges  TotalCharges InternetService  \\\n",
       "0           Electronic check           29.85         29.85             DSL   \n",
       "1               Mailed check           56.95       1889.50             DSL   \n",
       "2               Mailed check           53.85        108.15             DSL   \n",
       "3  Bank transfer (automatic)           42.30       1840.75             DSL   \n",
       "4           Electronic check           70.70        151.65     Fiber optic   \n",
       "\n",
       "  OnlineSecurity OnlineBackup DeviceProtection TechSupport StreamingTV  \\\n",
       "0             No          Yes               No          No          No   \n",
       "1            Yes           No              Yes          No          No   \n",
       "2            Yes          Yes               No          No          No   \n",
       "3            Yes           No              Yes         Yes          No   \n",
       "4             No           No               No          No          No   \n",
       "\n",
       "  StreamingMovies  gender  SeniorCitizen Partner Dependents MultipleLines  \n",
       "0              No  Female              0     Yes         No           NaN  \n",
       "1              No    Male              0      No         No            No  \n",
       "2              No    Male              0      No         No            No  \n",
       "3              No    Male              0      No         No           NaN  \n",
       "4              No  Female              0      No         No            No  "
      ]
     },
     "execution_count": 22,
     "metadata": {},
     "output_type": "execute_result"
    }
   ],
   "source": [
    "df_consolidado.head()"
   ]
  },
  {
   "cell_type": "markdown",
   "metadata": {},
   "source": [
    "- Actualizando el formato de los encabezados a snake_case"
   ]
  },
  {
   "cell_type": "code",
   "execution_count": 23,
   "metadata": {},
   "outputs": [],
   "source": [
    "df_consolidado = df_consolidado.rename(columns={'customerID': 'customer_id', 'BeginDate': 'begin_date', 'EndDate': 'end_date', 'Type': 'type','PaperlessBilling': 'paperless_billing', 'PaymentMethod': 'payment_method',\n",
    "                                                'MonthlyCharges': 'monthly_charges', 'TotalCharges': 'total_charges', 'InternetService': 'internet_service', 'OnlineSecurity': 'online_security', 'OnlineBackup': 'online_backup',\n",
    "                                                'DeviceProtection': 'device_protection', 'TechSupport': 'tech_support', 'StreamingTV': 'streaming_tv', 'StreamingMovies': 'streaming_movies', 'gender': 'gender',\n",
    "                                                'SeniorCitizen': 'senior_citizen', 'Partner': 'partner', 'Dependents': 'dependents', 'MultipleLines': 'multiple_lines'})"
   ]
  },
  {
   "cell_type": "code",
   "execution_count": 24,
   "metadata": {},
   "outputs": [
    {
     "name": "stdout",
     "output_type": "stream",
     "text": [
      "<class 'pandas.core.frame.DataFrame'>\n",
      "RangeIndex: 7043 entries, 0 to 7042\n",
      "Data columns (total 20 columns):\n",
      " #   Column             Non-Null Count  Dtype         \n",
      "---  ------             --------------  -----         \n",
      " 0   customer_id        7043 non-null   object        \n",
      " 1   begin_date         7043 non-null   datetime64[ns]\n",
      " 2   end_date           1869 non-null   datetime64[ns]\n",
      " 3   type               7043 non-null   category      \n",
      " 4   paperless_billing  7043 non-null   category      \n",
      " 5   payment_method     7043 non-null   category      \n",
      " 6   monthly_charges    7043 non-null   float64       \n",
      " 7   total_charges      7032 non-null   float64       \n",
      " 8   internet_service   5517 non-null   category      \n",
      " 9   online_security    5517 non-null   category      \n",
      " 10  online_backup      5517 non-null   category      \n",
      " 11  device_protection  5517 non-null   category      \n",
      " 12  tech_support       5517 non-null   category      \n",
      " 13  streaming_tv       5517 non-null   category      \n",
      " 14  streaming_movies   5517 non-null   category      \n",
      " 15  gender             7043 non-null   category      \n",
      " 16  senior_citizen     7043 non-null   int8          \n",
      " 17  partner            7043 non-null   category      \n",
      " 18  dependents         7043 non-null   category      \n",
      " 19  multiple_lines     6361 non-null   category      \n",
      "dtypes: category(14), datetime64[ns](2), float64(2), int8(1), object(1)\n",
      "memory usage: 380.2+ KB\n"
     ]
    }
   ],
   "source": [
    "df_consolidado.info()"
   ]
  },
  {
   "cell_type": "markdown",
   "metadata": {},
   "source": [
    "### Valores Ausentes.\n",
    "Los valores ausentes serán rellenados con No, porque se asumirá que los clientes no cuentan con esos servicios."
   ]
  },
  {
   "cell_type": "code",
   "execution_count": 25,
   "metadata": {},
   "outputs": [
    {
     "data": {
      "text/html": [
       "<div>\n",
       "<style scoped>\n",
       "    .dataframe tbody tr th:only-of-type {\n",
       "        vertical-align: middle;\n",
       "    }\n",
       "\n",
       "    .dataframe tbody tr th {\n",
       "        vertical-align: top;\n",
       "    }\n",
       "\n",
       "    .dataframe thead th {\n",
       "        text-align: right;\n",
       "    }\n",
       "</style>\n",
       "<table border=\"1\" class=\"dataframe\">\n",
       "  <thead>\n",
       "    <tr style=\"text-align: right;\">\n",
       "      <th></th>\n",
       "      <th>customer_id</th>\n",
       "      <th>begin_date</th>\n",
       "      <th>end_date</th>\n",
       "      <th>type</th>\n",
       "      <th>paperless_billing</th>\n",
       "      <th>payment_method</th>\n",
       "      <th>monthly_charges</th>\n",
       "      <th>total_charges</th>\n",
       "      <th>internet_service</th>\n",
       "      <th>online_security</th>\n",
       "      <th>online_backup</th>\n",
       "      <th>device_protection</th>\n",
       "      <th>tech_support</th>\n",
       "      <th>streaming_tv</th>\n",
       "      <th>streaming_movies</th>\n",
       "      <th>gender</th>\n",
       "      <th>senior_citizen</th>\n",
       "      <th>partner</th>\n",
       "      <th>dependents</th>\n",
       "      <th>multiple_lines</th>\n",
       "    </tr>\n",
       "  </thead>\n",
       "  <tbody>\n",
       "    <tr>\n",
       "      <th>11</th>\n",
       "      <td>7469-LKBCI</td>\n",
       "      <td>2018-10-01</td>\n",
       "      <td>NaT</td>\n",
       "      <td>Two year</td>\n",
       "      <td>No</td>\n",
       "      <td>Credit card (automatic)</td>\n",
       "      <td>18.95</td>\n",
       "      <td>326.80</td>\n",
       "      <td>NaN</td>\n",
       "      <td>NaN</td>\n",
       "      <td>NaN</td>\n",
       "      <td>NaN</td>\n",
       "      <td>NaN</td>\n",
       "      <td>NaN</td>\n",
       "      <td>NaN</td>\n",
       "      <td>Male</td>\n",
       "      <td>0</td>\n",
       "      <td>No</td>\n",
       "      <td>No</td>\n",
       "      <td>No</td>\n",
       "    </tr>\n",
       "    <tr>\n",
       "      <th>16</th>\n",
       "      <td>8191-XWSZG</td>\n",
       "      <td>2015-10-01</td>\n",
       "      <td>NaT</td>\n",
       "      <td>One year</td>\n",
       "      <td>No</td>\n",
       "      <td>Mailed check</td>\n",
       "      <td>20.65</td>\n",
       "      <td>1022.95</td>\n",
       "      <td>NaN</td>\n",
       "      <td>NaN</td>\n",
       "      <td>NaN</td>\n",
       "      <td>NaN</td>\n",
       "      <td>NaN</td>\n",
       "      <td>NaN</td>\n",
       "      <td>NaN</td>\n",
       "      <td>Female</td>\n",
       "      <td>0</td>\n",
       "      <td>No</td>\n",
       "      <td>No</td>\n",
       "      <td>No</td>\n",
       "    </tr>\n",
       "    <tr>\n",
       "      <th>21</th>\n",
       "      <td>1680-VDCWW</td>\n",
       "      <td>2019-02-01</td>\n",
       "      <td>NaT</td>\n",
       "      <td>One year</td>\n",
       "      <td>No</td>\n",
       "      <td>Bank transfer (automatic)</td>\n",
       "      <td>19.80</td>\n",
       "      <td>202.25</td>\n",
       "      <td>NaN</td>\n",
       "      <td>NaN</td>\n",
       "      <td>NaN</td>\n",
       "      <td>NaN</td>\n",
       "      <td>NaN</td>\n",
       "      <td>NaN</td>\n",
       "      <td>NaN</td>\n",
       "      <td>Male</td>\n",
       "      <td>0</td>\n",
       "      <td>Yes</td>\n",
       "      <td>No</td>\n",
       "      <td>No</td>\n",
       "    </tr>\n",
       "    <tr>\n",
       "      <th>22</th>\n",
       "      <td>1066-JKSGK</td>\n",
       "      <td>2019-11-01</td>\n",
       "      <td>2019-12-01</td>\n",
       "      <td>Month-to-month</td>\n",
       "      <td>No</td>\n",
       "      <td>Mailed check</td>\n",
       "      <td>20.15</td>\n",
       "      <td>20.15</td>\n",
       "      <td>NaN</td>\n",
       "      <td>NaN</td>\n",
       "      <td>NaN</td>\n",
       "      <td>NaN</td>\n",
       "      <td>NaN</td>\n",
       "      <td>NaN</td>\n",
       "      <td>NaN</td>\n",
       "      <td>Male</td>\n",
       "      <td>0</td>\n",
       "      <td>No</td>\n",
       "      <td>No</td>\n",
       "      <td>No</td>\n",
       "    </tr>\n",
       "    <tr>\n",
       "      <th>33</th>\n",
       "      <td>7310-EGVHZ</td>\n",
       "      <td>2020-01-01</td>\n",
       "      <td>NaT</td>\n",
       "      <td>Month-to-month</td>\n",
       "      <td>No</td>\n",
       "      <td>Bank transfer (automatic)</td>\n",
       "      <td>20.20</td>\n",
       "      <td>20.20</td>\n",
       "      <td>NaN</td>\n",
       "      <td>NaN</td>\n",
       "      <td>NaN</td>\n",
       "      <td>NaN</td>\n",
       "      <td>NaN</td>\n",
       "      <td>NaN</td>\n",
       "      <td>NaN</td>\n",
       "      <td>Male</td>\n",
       "      <td>0</td>\n",
       "      <td>No</td>\n",
       "      <td>No</td>\n",
       "      <td>No</td>\n",
       "    </tr>\n",
       "  </tbody>\n",
       "</table>\n",
       "</div>"
      ],
      "text/plain": [
       "   customer_id begin_date   end_date            type paperless_billing  \\\n",
       "11  7469-LKBCI 2018-10-01        NaT        Two year                No   \n",
       "16  8191-XWSZG 2015-10-01        NaT        One year                No   \n",
       "21  1680-VDCWW 2019-02-01        NaT        One year                No   \n",
       "22  1066-JKSGK 2019-11-01 2019-12-01  Month-to-month                No   \n",
       "33  7310-EGVHZ 2020-01-01        NaT  Month-to-month                No   \n",
       "\n",
       "               payment_method  monthly_charges  total_charges  \\\n",
       "11    Credit card (automatic)            18.95         326.80   \n",
       "16               Mailed check            20.65        1022.95   \n",
       "21  Bank transfer (automatic)            19.80         202.25   \n",
       "22               Mailed check            20.15          20.15   \n",
       "33  Bank transfer (automatic)            20.20          20.20   \n",
       "\n",
       "   internet_service online_security online_backup device_protection  \\\n",
       "11              NaN             NaN           NaN               NaN   \n",
       "16              NaN             NaN           NaN               NaN   \n",
       "21              NaN             NaN           NaN               NaN   \n",
       "22              NaN             NaN           NaN               NaN   \n",
       "33              NaN             NaN           NaN               NaN   \n",
       "\n",
       "   tech_support streaming_tv streaming_movies  gender  senior_citizen partner  \\\n",
       "11          NaN          NaN              NaN    Male               0      No   \n",
       "16          NaN          NaN              NaN  Female               0      No   \n",
       "21          NaN          NaN              NaN    Male               0     Yes   \n",
       "22          NaN          NaN              NaN    Male               0      No   \n",
       "33          NaN          NaN              NaN    Male               0      No   \n",
       "\n",
       "   dependents multiple_lines  \n",
       "11         No             No  \n",
       "16         No             No  \n",
       "21         No             No  \n",
       "22         No             No  \n",
       "33         No             No  "
      ]
     },
     "execution_count": 25,
     "metadata": {},
     "output_type": "execute_result"
    }
   ],
   "source": [
    "df_consolidado[df_consolidado['internet_service'].isnull()].head()"
   ]
  },
  {
   "cell_type": "code",
   "execution_count": 26,
   "metadata": {},
   "outputs": [],
   "source": [
    "columnas = ['internet_service', 'online_security', 'online_backup', 'device_protection', 'tech_support', 'streaming_tv', 'streaming_movies', 'multiple_lines']\n",
    "valor = 'No'\n",
    "\n",
    "# Agrega la categoría 'No' a las columnas categóricas solo si no existe\n",
    "for columna in columnas:\n",
    "    if valor not in df_consolidado[columna].cat.categories:\n",
    "        df_consolidado[columna] = df_consolidado[columna].cat.add_categories(valor)\n",
    "\n",
    "# Llena los valores nulos con 'No'\n",
    "df_consolidado[columnas] = df_consolidado[columnas].fillna(valor)\n"
   ]
  },
  {
   "cell_type": "markdown",
   "metadata": {},
   "source": [
    "- Acá se rellenarán los valores ausente de 'total_charges' con ceros, recordemos que estos valores ausentes corresponden a usuarios que llevan menos de un mes en la compañía."
   ]
  },
  {
   "cell_type": "code",
   "execution_count": 27,
   "metadata": {},
   "outputs": [],
   "source": [
    "df_consolidado['total_charges'] = df_consolidado['total_charges'].fillna(0)"
   ]
  },
  {
   "cell_type": "code",
   "execution_count": 28,
   "metadata": {},
   "outputs": [
    {
     "name": "stdout",
     "output_type": "stream",
     "text": [
      "<class 'pandas.core.frame.DataFrame'>\n",
      "RangeIndex: 7043 entries, 0 to 7042\n",
      "Data columns (total 20 columns):\n",
      " #   Column             Non-Null Count  Dtype         \n",
      "---  ------             --------------  -----         \n",
      " 0   customer_id        7043 non-null   object        \n",
      " 1   begin_date         7043 non-null   datetime64[ns]\n",
      " 2   end_date           1869 non-null   datetime64[ns]\n",
      " 3   type               7043 non-null   category      \n",
      " 4   paperless_billing  7043 non-null   category      \n",
      " 5   payment_method     7043 non-null   category      \n",
      " 6   monthly_charges    7043 non-null   float64       \n",
      " 7   total_charges      7043 non-null   float64       \n",
      " 8   internet_service   7043 non-null   category      \n",
      " 9   online_security    7043 non-null   category      \n",
      " 10  online_backup      7043 non-null   category      \n",
      " 11  device_protection  7043 non-null   category      \n",
      " 12  tech_support       7043 non-null   category      \n",
      " 13  streaming_tv       7043 non-null   category      \n",
      " 14  streaming_movies   7043 non-null   category      \n",
      " 15  gender             7043 non-null   category      \n",
      " 16  senior_citizen     7043 non-null   int8          \n",
      " 17  partner            7043 non-null   category      \n",
      " 18  dependents         7043 non-null   category      \n",
      " 19  multiple_lines     7043 non-null   category      \n",
      "dtypes: category(14), datetime64[ns](2), float64(2), int8(1), object(1)\n",
      "memory usage: 380.2+ KB\n"
     ]
    }
   ],
   "source": [
    "df_consolidado.info()"
   ]
  },
  {
   "cell_type": "markdown",
   "metadata": {},
   "source": [
    "- En este paso se rellenarán los ausentes de 'end_date' con 'No'."
   ]
  },
  {
   "cell_type": "code",
   "execution_count": 29,
   "metadata": {},
   "outputs": [],
   "source": [
    "df_consolidado['end_date'] = df_consolidado['end_date'].fillna('No')"
   ]
  },
  {
   "cell_type": "code",
   "execution_count": 30,
   "metadata": {},
   "outputs": [
    {
     "data": {
      "text/plain": [
       "end_date\n",
       "No                     5174\n",
       "2019-11-01 00:00:00     485\n",
       "2019-12-01 00:00:00     466\n",
       "2020-01-01 00:00:00     460\n",
       "2019-10-01 00:00:00     458\n",
       "Name: count, dtype: int64"
      ]
     },
     "execution_count": 30,
     "metadata": {},
     "output_type": "execute_result"
    }
   ],
   "source": [
    "df_consolidado['end_date'].value_counts()"
   ]
  },
  {
   "cell_type": "code",
   "execution_count": 31,
   "metadata": {},
   "outputs": [
    {
     "name": "stdout",
     "output_type": "stream",
     "text": [
      "<class 'pandas.core.frame.DataFrame'>\n",
      "RangeIndex: 7043 entries, 0 to 7042\n",
      "Data columns (total 20 columns):\n",
      " #   Column             Non-Null Count  Dtype         \n",
      "---  ------             --------------  -----         \n",
      " 0   customer_id        7043 non-null   object        \n",
      " 1   begin_date         7043 non-null   datetime64[ns]\n",
      " 2   end_date           7043 non-null   object        \n",
      " 3   type               7043 non-null   category      \n",
      " 4   paperless_billing  7043 non-null   category      \n",
      " 5   payment_method     7043 non-null   category      \n",
      " 6   monthly_charges    7043 non-null   float64       \n",
      " 7   total_charges      7043 non-null   float64       \n",
      " 8   internet_service   7043 non-null   category      \n",
      " 9   online_security    7043 non-null   category      \n",
      " 10  online_backup      7043 non-null   category      \n",
      " 11  device_protection  7043 non-null   category      \n",
      " 12  tech_support       7043 non-null   category      \n",
      " 13  streaming_tv       7043 non-null   category      \n",
      " 14  streaming_movies   7043 non-null   category      \n",
      " 15  gender             7043 non-null   category      \n",
      " 16  senior_citizen     7043 non-null   int8          \n",
      " 17  partner            7043 non-null   category      \n",
      " 18  dependents         7043 non-null   category      \n",
      " 19  multiple_lines     7043 non-null   category      \n",
      "dtypes: category(14), datetime64[ns](1), float64(2), int8(1), object(2)\n",
      "memory usage: 380.2+ KB\n"
     ]
    }
   ],
   "source": [
    "df_consolidado.info()"
   ]
  },
  {
   "cell_type": "markdown",
   "metadata": {},
   "source": [
    "### Funciones para 'end_date'"
   ]
  },
  {
   "cell_type": "markdown",
   "metadata": {},
   "source": [
    "- En este paso, agregaremos una columna con valores booleanos, en donde 0 representará los clientes que siguen en la compañía, y 1 a los clientes que dejaron la compañía."
   ]
  },
  {
   "cell_type": "code",
   "execution_count": 32,
   "metadata": {},
   "outputs": [],
   "source": [
    "def end_date_2(row):\n",
    "    if row['end_date'] == 'No':\n",
    "        return 0\n",
    "    else:\n",
    "        return 1\n",
    "    \n",
    "df_consolidado['end_date_2'] = df_consolidado.apply(end_date_2, axis=1)"
   ]
  },
  {
   "cell_type": "code",
   "execution_count": 33,
   "metadata": {},
   "outputs": [
    {
     "data": {
      "text/plain": [
       "array([0, 1], dtype=int64)"
      ]
     },
     "execution_count": 33,
     "metadata": {},
     "output_type": "execute_result"
    }
   ],
   "source": [
    "df_consolidado['end_date_2'].unique()"
   ]
  },
  {
   "cell_type": "markdown",
   "metadata": {},
   "source": [
    "- A continuación se calcularán los meses de uso desde el inicio del contrato. Se utilizará la fecha 31-01-2020 como la fecha de hoy."
   ]
  },
  {
   "cell_type": "code",
   "execution_count": 34,
   "metadata": {},
   "outputs": [],
   "source": [
    "def end_date_3(row):\n",
    "    if row['end_date'] == 'No':\n",
    "        return pd.to_datetime('2020-01-31',format='%Y-%m-%d')\n",
    "    else:\n",
    "        return row['end_date']\n",
    "    \n",
    "df_consolidado['end_date_3'] = df_consolidado.apply(end_date_3, axis=1)"
   ]
  },
  {
   "cell_type": "code",
   "execution_count": 35,
   "metadata": {},
   "outputs": [
    {
     "data": {
      "text/plain": [
       "end_date_3\n",
       "2020-01-31    5174\n",
       "2019-11-01     485\n",
       "2019-12-01     466\n",
       "2020-01-01     460\n",
       "2019-10-01     458\n",
       "Name: count, dtype: int64"
      ]
     },
     "execution_count": 35,
     "metadata": {},
     "output_type": "execute_result"
    }
   ],
   "source": [
    "df_consolidado['end_date_3'].value_counts()"
   ]
  },
  {
   "cell_type": "code",
   "execution_count": 36,
   "metadata": {},
   "outputs": [],
   "source": [
    "def months(row):\n",
    "    months_diff = row['end_date_3'] - row['begin_date']\n",
    "    return round(months_diff / pd.Timedelta(days=30))\n",
    "\n",
    "df_consolidado['months_using_service'] = df_consolidado.apply(months, axis=1)"
   ]
  },
  {
   "cell_type": "markdown",
   "metadata": {},
   "source": [
    "- Ahora, se calculará los cobros adicionales al cobro mensual, se hará calculand la diferencia entre 'total_charges' y 'monthly_charges' multiplicado por 'months_using_service', que serían los meses que el usuario ha usado el servicio."
   ]
  },
  {
   "cell_type": "code",
   "execution_count": 37,
   "metadata": {},
   "outputs": [],
   "source": [
    "def ttl_charges(row):\n",
    "    total_charges_diff = (row['monthly_charges'] * row['months_using_service']) - row['total_charges']\n",
    "    return total_charges_diff\n",
    "\n",
    "df_consolidado['total_charges_diff'] = df_consolidado.apply(ttl_charges, axis=1)"
   ]
  },
  {
   "cell_type": "code",
   "execution_count": 38,
   "metadata": {},
   "outputs": [
    {
     "data": {
      "text/html": [
       "<div>\n",
       "<style scoped>\n",
       "    .dataframe tbody tr th:only-of-type {\n",
       "        vertical-align: middle;\n",
       "    }\n",
       "\n",
       "    .dataframe tbody tr th {\n",
       "        vertical-align: top;\n",
       "    }\n",
       "\n",
       "    .dataframe thead th {\n",
       "        text-align: right;\n",
       "    }\n",
       "</style>\n",
       "<table border=\"1\" class=\"dataframe\">\n",
       "  <thead>\n",
       "    <tr style=\"text-align: right;\">\n",
       "      <th></th>\n",
       "      <th>customer_id</th>\n",
       "      <th>begin_date</th>\n",
       "      <th>end_date</th>\n",
       "      <th>type</th>\n",
       "      <th>paperless_billing</th>\n",
       "      <th>payment_method</th>\n",
       "      <th>monthly_charges</th>\n",
       "      <th>total_charges</th>\n",
       "      <th>internet_service</th>\n",
       "      <th>online_security</th>\n",
       "      <th>...</th>\n",
       "      <th>streaming_movies</th>\n",
       "      <th>gender</th>\n",
       "      <th>senior_citizen</th>\n",
       "      <th>partner</th>\n",
       "      <th>dependents</th>\n",
       "      <th>multiple_lines</th>\n",
       "      <th>end_date_2</th>\n",
       "      <th>end_date_3</th>\n",
       "      <th>months_using_service</th>\n",
       "      <th>total_charges_diff</th>\n",
       "    </tr>\n",
       "  </thead>\n",
       "  <tbody>\n",
       "    <tr>\n",
       "      <th>0</th>\n",
       "      <td>7590-VHVEG</td>\n",
       "      <td>2020-01-01</td>\n",
       "      <td>No</td>\n",
       "      <td>Month-to-month</td>\n",
       "      <td>Yes</td>\n",
       "      <td>Electronic check</td>\n",
       "      <td>29.85</td>\n",
       "      <td>29.85</td>\n",
       "      <td>DSL</td>\n",
       "      <td>No</td>\n",
       "      <td>...</td>\n",
       "      <td>No</td>\n",
       "      <td>Female</td>\n",
       "      <td>0</td>\n",
       "      <td>Yes</td>\n",
       "      <td>No</td>\n",
       "      <td>No</td>\n",
       "      <td>0</td>\n",
       "      <td>2020-01-31</td>\n",
       "      <td>1</td>\n",
       "      <td>0.00</td>\n",
       "    </tr>\n",
       "    <tr>\n",
       "      <th>1</th>\n",
       "      <td>5575-GNVDE</td>\n",
       "      <td>2017-04-01</td>\n",
       "      <td>No</td>\n",
       "      <td>One year</td>\n",
       "      <td>No</td>\n",
       "      <td>Mailed check</td>\n",
       "      <td>56.95</td>\n",
       "      <td>1889.50</td>\n",
       "      <td>DSL</td>\n",
       "      <td>Yes</td>\n",
       "      <td>...</td>\n",
       "      <td>No</td>\n",
       "      <td>Male</td>\n",
       "      <td>0</td>\n",
       "      <td>No</td>\n",
       "      <td>No</td>\n",
       "      <td>No</td>\n",
       "      <td>0</td>\n",
       "      <td>2020-01-31</td>\n",
       "      <td>34</td>\n",
       "      <td>46.80</td>\n",
       "    </tr>\n",
       "    <tr>\n",
       "      <th>2</th>\n",
       "      <td>3668-QPYBK</td>\n",
       "      <td>2019-10-01</td>\n",
       "      <td>2019-12-01 00:00:00</td>\n",
       "      <td>Month-to-month</td>\n",
       "      <td>Yes</td>\n",
       "      <td>Mailed check</td>\n",
       "      <td>53.85</td>\n",
       "      <td>108.15</td>\n",
       "      <td>DSL</td>\n",
       "      <td>Yes</td>\n",
       "      <td>...</td>\n",
       "      <td>No</td>\n",
       "      <td>Male</td>\n",
       "      <td>0</td>\n",
       "      <td>No</td>\n",
       "      <td>No</td>\n",
       "      <td>No</td>\n",
       "      <td>1</td>\n",
       "      <td>2019-12-01</td>\n",
       "      <td>2</td>\n",
       "      <td>-0.45</td>\n",
       "    </tr>\n",
       "    <tr>\n",
       "      <th>3</th>\n",
       "      <td>7795-CFOCW</td>\n",
       "      <td>2016-05-01</td>\n",
       "      <td>No</td>\n",
       "      <td>One year</td>\n",
       "      <td>No</td>\n",
       "      <td>Bank transfer (automatic)</td>\n",
       "      <td>42.30</td>\n",
       "      <td>1840.75</td>\n",
       "      <td>DSL</td>\n",
       "      <td>Yes</td>\n",
       "      <td>...</td>\n",
       "      <td>No</td>\n",
       "      <td>Male</td>\n",
       "      <td>0</td>\n",
       "      <td>No</td>\n",
       "      <td>No</td>\n",
       "      <td>No</td>\n",
       "      <td>0</td>\n",
       "      <td>2020-01-31</td>\n",
       "      <td>46</td>\n",
       "      <td>105.05</td>\n",
       "    </tr>\n",
       "    <tr>\n",
       "      <th>4</th>\n",
       "      <td>9237-HQITU</td>\n",
       "      <td>2019-09-01</td>\n",
       "      <td>2019-11-01 00:00:00</td>\n",
       "      <td>Month-to-month</td>\n",
       "      <td>Yes</td>\n",
       "      <td>Electronic check</td>\n",
       "      <td>70.70</td>\n",
       "      <td>151.65</td>\n",
       "      <td>Fiber optic</td>\n",
       "      <td>No</td>\n",
       "      <td>...</td>\n",
       "      <td>No</td>\n",
       "      <td>Female</td>\n",
       "      <td>0</td>\n",
       "      <td>No</td>\n",
       "      <td>No</td>\n",
       "      <td>No</td>\n",
       "      <td>1</td>\n",
       "      <td>2019-11-01</td>\n",
       "      <td>2</td>\n",
       "      <td>-10.25</td>\n",
       "    </tr>\n",
       "  </tbody>\n",
       "</table>\n",
       "<p>5 rows × 24 columns</p>\n",
       "</div>"
      ],
      "text/plain": [
       "  customer_id begin_date             end_date            type  \\\n",
       "0  7590-VHVEG 2020-01-01                   No  Month-to-month   \n",
       "1  5575-GNVDE 2017-04-01                   No        One year   \n",
       "2  3668-QPYBK 2019-10-01  2019-12-01 00:00:00  Month-to-month   \n",
       "3  7795-CFOCW 2016-05-01                   No        One year   \n",
       "4  9237-HQITU 2019-09-01  2019-11-01 00:00:00  Month-to-month   \n",
       "\n",
       "  paperless_billing             payment_method  monthly_charges  \\\n",
       "0               Yes           Electronic check            29.85   \n",
       "1                No               Mailed check            56.95   \n",
       "2               Yes               Mailed check            53.85   \n",
       "3                No  Bank transfer (automatic)            42.30   \n",
       "4               Yes           Electronic check            70.70   \n",
       "\n",
       "   total_charges internet_service online_security  ... streaming_movies  \\\n",
       "0          29.85              DSL              No  ...               No   \n",
       "1        1889.50              DSL             Yes  ...               No   \n",
       "2         108.15              DSL             Yes  ...               No   \n",
       "3        1840.75              DSL             Yes  ...               No   \n",
       "4         151.65      Fiber optic              No  ...               No   \n",
       "\n",
       "   gender senior_citizen partner dependents multiple_lines  end_date_2  \\\n",
       "0  Female              0     Yes         No             No           0   \n",
       "1    Male              0      No         No             No           0   \n",
       "2    Male              0      No         No             No           1   \n",
       "3    Male              0      No         No             No           0   \n",
       "4  Female              0      No         No             No           1   \n",
       "\n",
       "  end_date_3 months_using_service total_charges_diff  \n",
       "0 2020-01-31                    1               0.00  \n",
       "1 2020-01-31                   34              46.80  \n",
       "2 2019-12-01                    2              -0.45  \n",
       "3 2020-01-31                   46             105.05  \n",
       "4 2019-11-01                    2             -10.25  \n",
       "\n",
       "[5 rows x 24 columns]"
      ]
     },
     "execution_count": 38,
     "metadata": {},
     "output_type": "execute_result"
    }
   ],
   "source": [
    "df_consolidado.head()"
   ]
  },
  {
   "cell_type": "markdown",
   "metadata": {},
   "source": [
    "### Análisis a través de Gráficos"
   ]
  },
  {
   "cell_type": "markdown",
   "metadata": {},
   "source": [
    "- Se iniciará el análisis de los datos a través de los gráficos, primero se analizará el dataframe 'contract'."
   ]
  },
  {
   "cell_type": "code",
   "execution_count": 39,
   "metadata": {},
   "outputs": [
    {
     "data": {
      "image/png": "[encoded data removed]",
      "text/plain": [
       "<Figure size 640x480 with 1 Axes>"
      ]
     },
     "metadata": {},
     "output_type": "display_data"
    }
   ],
   "source": [
    "df_consolidado.groupby('end_date_2')['total_charges'].sum().plot(kind='bar')\n",
    "plt.xlabel('End Date')\n",
    "plt.ylabel('Total Charges')\n",
    "plt.title('Total Charges by End Date')\n",
    "plt.show()"
   ]
  },
  {
   "cell_type": "code",
   "execution_count": 40,
   "metadata": {},
   "outputs": [
    {
     "data": {
      "text/plain": [
       "7043"
      ]
     },
     "execution_count": 40,
     "metadata": {},
     "output_type": "execute_result"
    }
   ],
   "source": [
    "df_consolidado['customer_id'].nunique()"
   ]
  },
  {
   "cell_type": "code",
   "execution_count": 41,
   "metadata": {},
   "outputs": [
    {
     "data": {
      "text/plain": [
       "16056168.7"
      ]
     },
     "execution_count": 41,
     "metadata": {},
     "output_type": "execute_result"
    }
   ],
   "source": [
    "df_consolidado['total_charges'].sum()"
   ]
  },
  {
   "cell_type": "code",
   "execution_count": 42,
   "metadata": {},
   "outputs": [
    {
     "data": {
      "text/plain": [
       "end_date_2\n",
       "0    82.169302\n",
       "1    17.830698\n",
       "Name: total_charges, dtype: float64"
      ]
     },
     "execution_count": 42,
     "metadata": {},
     "output_type": "execute_result"
    }
   ],
   "source": [
    "(df_consolidado.groupby('end_date_2')['total_charges'].sum() / df_consolidado['total_charges'].sum()) * 100"
   ]
  },
  {
   "cell_type": "markdown",
   "metadata": {},
   "source": [
    "- Sobre los ingresos totales, se puede decir que de los 7043 clientes que se manejan en el dataframe, los que aún siguen en la compañía, aportan el 82% de la venta, siendo esta de un total de $16M. Sin embargo, la empresa quiere predecir qué clientes pueden dejar de contratar sus servicios, con el fin de disminuir el 18% de clientes perdidos."
   ]
  },
  {
   "cell_type": "markdown",
   "metadata": {},
   "source": [
    "### Analizando los métodos de pago"
   ]
  },
  {
   "cell_type": "code",
   "execution_count": 43,
   "metadata": {},
   "outputs": [
    {
     "data": {
      "image/png": "[encoded data removed]",
      "text/plain": [
       "<Figure size 640x480 with 1 Axes>"
      ]
     },
     "metadata": {},
     "output_type": "display_data"
    }
   ],
   "source": [
    "df_consolidado.groupby('type', observed=False)['total_charges'].sum().plot(kind='bar')\n",
    "plt.xlabel('Type')\n",
    "plt.ylabel('Total Charges')\n",
    "plt.title('Total Charges by Type')\n",
    "plt.show()"
   ]
  },
  {
   "cell_type": "code",
   "execution_count": 44,
   "metadata": {},
   "outputs": [
    {
     "data": {
      "text/plain": [
       "type\n",
       "Month-to-month    33.045626\n",
       "One year          27.821416\n",
       "Two year          39.132958\n",
       "Name: total_charges, dtype: float64"
      ]
     },
     "execution_count": 44,
     "metadata": {},
     "output_type": "execute_result"
    }
   ],
   "source": [
    "(df_consolidado.groupby('type', observed=False)['total_charges'].sum() / df_consolidado['total_charges'].sum()) * 100"
   ]
  },
  {
   "cell_type": "code",
   "execution_count": 45,
   "metadata": {},
   "outputs": [
    {
     "data": {
      "image/png": "[encoded data removed]",
      "text/plain": [
       "<Figure size 640x480 with 1 Axes>"
      ]
     },
     "metadata": {},
     "output_type": "display_data"
    }
   ],
   "source": [
    "df_consolidado.groupby('paperless_billing', observed=False)['total_charges'].sum().plot(kind='bar')\n",
    "plt.xlabel('Paperless billing')\n",
    "plt.ylabel('Total Charges')\n",
    "plt.title('Total Charges by Paperless billing')\n",
    "plt.show()"
   ]
  },
  {
   "cell_type": "code",
   "execution_count": 46,
   "metadata": {},
   "outputs": [
    {
     "data": {
      "text/plain": [
       "paperless_billing\n",
       "No     33.030165\n",
       "Yes    66.969835\n",
       "Name: total_charges, dtype: float64"
      ]
     },
     "execution_count": 46,
     "metadata": {},
     "output_type": "execute_result"
    }
   ],
   "source": [
    "(df_consolidado.groupby('paperless_billing', observed=False)['total_charges'].sum() / df_consolidado['total_charges'].sum()) * 100"
   ]
  },
  {
   "cell_type": "code",
   "execution_count": 47,
   "metadata": {},
   "outputs": [
    {
     "data": {
      "image/png": "[encoded data removed]",
      "text/plain": [
       "<Figure size 640x480 with 1 Axes>"
      ]
     },
     "metadata": {},
     "output_type": "display_data"
    }
   ],
   "source": [
    "df_consolidado.groupby('payment_method', observed=False)['total_charges'].sum().plot(kind='bar')\n",
    "plt.xlabel('Payment method')\n",
    "plt.ylabel('Total Charges')\n",
    "plt.title('Total Charges by Payment method')\n",
    "plt.show()"
   ]
  },
  {
   "cell_type": "code",
   "execution_count": 48,
   "metadata": {},
   "outputs": [
    {
     "data": {
      "text/plain": [
       "payment_method\n",
       "Bank transfer (automatic)    29.572932\n",
       "Credit card (automatic)      29.095318\n",
       "Electronic check             30.797529\n",
       "Mailed check                 10.534220\n",
       "Name: total_charges, dtype: float64"
      ]
     },
     "execution_count": 48,
     "metadata": {},
     "output_type": "execute_result"
    }
   ],
   "source": [
    "(df_consolidado.groupby('payment_method', observed=False)['total_charges'].sum() / df_consolidado['total_charges'].sum()) * 100"
   ]
  },
  {
   "cell_type": "markdown",
   "metadata": {},
   "source": [
    "- Con respecto a los tipos de pago no se ven grandes variaciones entre ellas, siendo la que mayormente los clientes prefieren, el tipo de pago 'Two year' con un 39% sobre los ingresos totales, seguido del tipo de pago 'Month-to-month' con un 33%, y finalmente el tipo de pago 'One year' con un 28%.\n",
    "- Con respecto a la facturación electrónica, se puede ver claramente que el 67% está bajo la modalidad de facturación electrónica, y el 33% no lo está.\n",
    "- Con respecto a los métodos de pagos, se ve una tendencia similar entre 3 de los 4 métodos, por un lado tenemos a los métodos de pago de 'Electronic check', 'Bank transfer (automatic)' y 'Credit card (automatic)' con 31%, 30% y 29% respectivamente. Por último el método de pago 'Mailed check' con un 10% de uso. Esto nos dice que los clientes de la compañía tienden a usar métodos digitales de pago."
   ]
  },
  {
   "cell_type": "markdown",
   "metadata": {},
   "source": [
    "### Diferencias entre el pago total y el pago mensual"
   ]
  },
  {
   "cell_type": "code",
   "execution_count": 49,
   "metadata": {},
   "outputs": [
    {
     "data": {
      "image/png": "[encoded data removed]",
      "text/plain": [
       "<Figure size 640x480 with 1 Axes>"
      ]
     },
     "metadata": {},
     "output_type": "display_data"
    }
   ],
   "source": [
    "df_consolidado.groupby('end_date_2', observed=False)['total_charges_diff'].mean().plot(kind='bar')\n",
    "plt.xlabel('End date')\n",
    "plt.ylabel('Total Charges difference')\n",
    "plt.title('Total Charges difference by End date')\n",
    "plt.show()"
   ]
  },
  {
   "cell_type": "code",
   "execution_count": 50,
   "metadata": {},
   "outputs": [
    {
     "data": {
      "text/plain": [
       "end_date_2\n",
       "0    36.847468\n",
       "1    17.537533\n",
       "Name: total_charges_diff, dtype: float64"
      ]
     },
     "execution_count": 50,
     "metadata": {},
     "output_type": "execute_result"
    }
   ],
   "source": [
    "df_consolidado.groupby('end_date_2', observed=False)['total_charges_diff'].mean()"
   ]
  },
  {
   "cell_type": "markdown",
   "metadata": {},
   "source": [
    "- En el gráfico anterior se da a conocer los cobros adicionales al pago mensual que tiene los clientes de Interconnect.\n",
    "- Los usuarios que siguen en la compañía, pagan en promedio $37 más sobre el pago mensual desde que contraron el servicio.\n",
    "- Los usuarios que dejaron de contratar los servicios pagaron $18 más sobres el pago mensual dentro de todo el período que usaron el servicio."
   ]
  },
  {
   "cell_type": "markdown",
   "metadata": {},
   "source": [
    "### Analizando los servicios de internet"
   ]
  },
  {
   "cell_type": "code",
   "execution_count": 51,
   "metadata": {},
   "outputs": [
    {
     "data": {
      "image/png": "[encoded data removed]",
      "text/plain": [
       "<Figure size 640x480 with 1 Axes>"
      ]
     },
     "metadata": {},
     "output_type": "display_data"
    }
   ],
   "source": [
    "df_consolidado.groupby('internet_service', observed=False)['total_charges'].sum().plot(kind='bar')\n",
    "plt.xlabel('Internet service')\n",
    "plt.ylabel('Total Charges')\n",
    "plt.title('Total Charges by Internet service')\n",
    "plt.show()"
   ]
  },
  {
   "cell_type": "code",
   "execution_count": 52,
   "metadata": {},
   "outputs": [
    {
     "data": {
      "text/plain": [
       "internet_service\n",
       "DSL            31.896843\n",
       "Fiber optic    61.805672\n",
       "No              6.297486\n",
       "Name: total_charges, dtype: float64"
      ]
     },
     "execution_count": 52,
     "metadata": {},
     "output_type": "execute_result"
    }
   ],
   "source": [
    "(df_consolidado.groupby('internet_service', observed=False)['total_charges'].sum() / df_consolidado['total_charges'].sum()) * 100"
   ]
  },
  {
   "cell_type": "markdown",
   "metadata": {},
   "source": [
    "- Con respecto a tipo de internet que los usuarios prefieren, se ve una alta preferencia por la Fibra óptica, con un 62% del total de ingresos, luego el tipo de internet por DSL con un 32%, y finalmente los que no contrataron el servicio de internet representan el 6%."
   ]
  },
  {
   "cell_type": "code",
   "execution_count": 53,
   "metadata": {},
   "outputs": [
    {
     "name": "stdout",
     "output_type": "stream",
     "text": [
      "online_security\n",
      "No     5024\n",
      "Yes    2019\n",
      "Name: count, dtype: int64\n",
      "\n",
      "online_backup\n",
      "No     4614\n",
      "Yes    2429\n",
      "Name: count, dtype: int64\n",
      "\n",
      "device_protection\n",
      "No     4621\n",
      "Yes    2422\n",
      "Name: count, dtype: int64\n",
      "\n",
      "tech_support\n",
      "No     4999\n",
      "Yes    2044\n",
      "Name: count, dtype: int64\n",
      "\n",
      "streaming_tv\n",
      "No     4336\n",
      "Yes    2707\n",
      "Name: count, dtype: int64\n",
      "\n",
      "streaming_movies\n",
      "No     4311\n",
      "Yes    2732\n",
      "Name: count, dtype: int64\n"
     ]
    }
   ],
   "source": [
    "print(df_consolidado['online_security'].value_counts())\n",
    "print()\n",
    "print(df_consolidado['online_backup'].value_counts())\n",
    "print()\n",
    "print(df_consolidado['device_protection'].value_counts())\n",
    "print()\n",
    "print(df_consolidado['tech_support'].value_counts())\n",
    "print()\n",
    "print(df_consolidado['streaming_tv'].value_counts())\n",
    "print()\n",
    "print(df_consolidado['streaming_movies'].value_counts())"
   ]
  },
  {
   "cell_type": "markdown",
   "metadata": {},
   "source": [
    "- Por otro lado, del total de usarios del dataframe, más de 4000 usuarios, no usan los servicios extras de internet."
   ]
  },
  {
   "cell_type": "markdown",
   "metadata": {},
   "source": [
    "### Analizando el dataframe Personal"
   ]
  },
  {
   "cell_type": "code",
   "execution_count": 54,
   "metadata": {},
   "outputs": [
    {
     "data": {
      "image/png": "[encoded data removed]",
      "text/plain": [
       "<Figure size 640x480 with 1 Axes>"
      ]
     },
     "metadata": {},
     "output_type": "display_data"
    }
   ],
   "source": [
    "df_consolidado.groupby('gender', observed=False)['total_charges'].sum().plot(kind='bar')\n",
    "plt.xlabel('Gender')\n",
    "plt.ylabel('Total Charges')\n",
    "plt.title('Total Charges by Gender')\n",
    "plt.show()"
   ]
  },
  {
   "cell_type": "code",
   "execution_count": 55,
   "metadata": {},
   "outputs": [
    {
     "data": {
      "text/plain": [
       "gender\n",
       "Female    49.528342\n",
       "Male      50.471658\n",
       "Name: total_charges, dtype: float64"
      ]
     },
     "execution_count": 55,
     "metadata": {},
     "output_type": "execute_result"
    }
   ],
   "source": [
    "(df_consolidado.groupby('gender', observed=False)['total_charges'].sum() / df_consolidado['total_charges'].sum()) * 100"
   ]
  },
  {
   "cell_type": "code",
   "execution_count": 56,
   "metadata": {},
   "outputs": [
    {
     "data": {
      "text/plain": [
       "gender\n",
       "Male      50.47565\n",
       "Female    49.52435\n",
       "Name: count, dtype: float64"
      ]
     },
     "execution_count": 56,
     "metadata": {},
     "output_type": "execute_result"
    }
   ],
   "source": [
    "(df_consolidado['gender'].value_counts() / df_consolidado['gender'].count()) * 100"
   ]
  },
  {
   "cell_type": "markdown",
   "metadata": {},
   "source": [
    "- En términos del género del contratane del servicio, el gráfico demuestra que entre el genero feminino y masculino hay 0.5% de diferencia sobre el total de cargos, lo que nos dice que el género de los usuarios del dataframe son practicamente iguales."
   ]
  },
  {
   "cell_type": "code",
   "execution_count": 57,
   "metadata": {},
   "outputs": [
    {
     "data": {
      "image/png": "[encoded data removed]",
      "text/plain": [
       "<Figure size 640x480 with 1 Axes>"
      ]
     },
     "metadata": {},
     "output_type": "display_data"
    }
   ],
   "source": [
    "df_consolidado.groupby('senior_citizen', observed=False)['total_charges'].sum().plot(kind='bar')\n",
    "plt.xlabel('Senior citizen')\n",
    "plt.ylabel('Total Charges')\n",
    "plt.title('Total Charges by Senior citizen')\n",
    "plt.show()"
   ]
  },
  {
   "cell_type": "code",
   "execution_count": 58,
   "metadata": {},
   "outputs": [
    {
     "data": {
      "text/plain": [
       "senior_citizen\n",
       "0    83.785319\n",
       "1    16.214681\n",
       "Name: count, dtype: float64"
      ]
     },
     "execution_count": 58,
     "metadata": {},
     "output_type": "execute_result"
    }
   ],
   "source": [
    "(df_consolidado['senior_citizen'].value_counts() / df_consolidado['senior_citizen'].count()) * 100"
   ]
  },
  {
   "cell_type": "markdown",
   "metadata": {},
   "source": [
    "- Sobre los 'senior_citizen' se puede decir que forman parte del 16% del total del dataframe."
   ]
  },
  {
   "cell_type": "code",
   "execution_count": 59,
   "metadata": {},
   "outputs": [
    {
     "data": {
      "image/png": "[encoded data removed]",
      "text/plain": [
       "<Figure size 640x480 with 1 Axes>"
      ]
     },
     "metadata": {},
     "output_type": "display_data"
    }
   ],
   "source": [
    "df_consolidado.groupby('partner', observed=False)['total_charges'].sum().plot(kind='bar')\n",
    "plt.xlabel('Partner')\n",
    "plt.ylabel('Total Charges')\n",
    "plt.title('Total Charges by Partner')\n",
    "plt.show()"
   ]
  },
  {
   "cell_type": "code",
   "execution_count": 60,
   "metadata": {},
   "outputs": [
    {
     "data": {
      "text/plain": [
       "partner\n",
       "No     51.69672\n",
       "Yes    48.30328\n",
       "Name: count, dtype: float64"
      ]
     },
     "execution_count": 60,
     "metadata": {},
     "output_type": "execute_result"
    }
   ],
   "source": [
    "(df_consolidado['partner'].value_counts() / df_consolidado['partner'].count()) * 100"
   ]
  },
  {
   "cell_type": "markdown",
   "metadata": {},
   "source": [
    "- Sobre los 'partner' se puede decir que los que no tienen partner forman el 52% del dataframe, contra el 48% que sí tienen partner."
   ]
  },
  {
   "cell_type": "code",
   "execution_count": 61,
   "metadata": {},
   "outputs": [
    {
     "data": {
      "image/png": "[encoded data removed]",
      "text/plain": [
       "<Figure size 640x480 with 1 Axes>"
      ]
     },
     "metadata": {},
     "output_type": "display_data"
    }
   ],
   "source": [
    "df_consolidado.groupby('dependents', observed=False)['total_charges'].sum().plot(kind='bar')\n",
    "plt.xlabel('Dependents')\n",
    "plt.ylabel('Total Charges')\n",
    "plt.title('Total Charges by Dependents')\n",
    "plt.show()"
   ]
  },
  {
   "cell_type": "code",
   "execution_count": 62,
   "metadata": {},
   "outputs": [
    {
     "data": {
      "text/plain": [
       "dependents\n",
       "No     70.041176\n",
       "Yes    29.958824\n",
       "Name: count, dtype: float64"
      ]
     },
     "execution_count": 62,
     "metadata": {},
     "output_type": "execute_result"
    }
   ],
   "source": [
    "(df_consolidado['dependents'].value_counts() / df_consolidado['dependents'].count()) * 100"
   ]
  },
  {
   "cell_type": "markdown",
   "metadata": {},
   "source": [
    "- Sobre los 'dependents' se puede decir que los que no tienen dependents forman el 70% del dataframe, contra el 30% que sí."
   ]
  },
  {
   "cell_type": "markdown",
   "metadata": {},
   "source": [
    "### Analizando el dataframe Phone"
   ]
  },
  {
   "cell_type": "code",
   "execution_count": 63,
   "metadata": {},
   "outputs": [
    {
     "data": {
      "image/png": "[encoded data removed]",
      "text/plain": [
       "<Figure size 640x480 with 1 Axes>"
      ]
     },
     "metadata": {},
     "output_type": "display_data"
    }
   ],
   "source": [
    "df_consolidado.groupby('multiple_lines', observed=False)['total_charges'].sum().plot(kind='bar')\n",
    "plt.xlabel('Multiple lines')\n",
    "plt.ylabel('Total Charges')\n",
    "plt.title('Total Charges by Multiple lines')\n",
    "plt.show()"
   ]
  },
  {
   "cell_type": "code",
   "execution_count": 64,
   "metadata": {},
   "outputs": [
    {
     "data": {
      "text/plain": [
       "multiple_lines\n",
       "No     57.816271\n",
       "Yes    42.183729\n",
       "Name: count, dtype: float64"
      ]
     },
     "execution_count": 64,
     "metadata": {},
     "output_type": "execute_result"
    }
   ],
   "source": [
    "(df_consolidado['multiple_lines'].value_counts() / df_consolidado['multiple_lines'].count()) * 100"
   ]
  },
  {
   "cell_type": "markdown",
   "metadata": {},
   "source": [
    "- Sobre los 'multiple_lines' se puede decir que los que tienen multiple lines forman el 42% del dataframe, contra el 58% que no."
   ]
  },
  {
   "cell_type": "markdown",
   "metadata": {},
   "source": [
    "### Analizando la estadía de los usuarios que dejaron la compañía"
   ]
  },
  {
   "cell_type": "code",
   "execution_count": 65,
   "metadata": {},
   "outputs": [
    {
     "data": {
      "image/png": "[encoded data removed]",
      "text/plain": [
       "<Figure size 2000x600 with 1 Axes>"
      ]
     },
     "metadata": {},
     "output_type": "display_data"
    }
   ],
   "source": [
    "df_consolidado[df_consolidado['end_date_2'] == 1]['months_using_service'].hist(bins=25, figsize=(20, 6))\n",
    "plt.xlim(0, 75)\n",
    "plt.show()"
   ]
  },
  {
   "cell_type": "code",
   "execution_count": 66,
   "metadata": {},
   "outputs": [
    {
     "name": "stdout",
     "output_type": "stream",
     "text": [
      "Meses promedio de uso de usuarios que dejaron la compañía: 18\n",
      "Mínimo de meses de uso de usuarios que dejaron la compañía: 1\n",
      "Máximo de meses de uso de usuarios que dejaron la compañía: 73\n",
      "Total de usuarios que dejaron la compañía: 1869\n"
     ]
    }
   ],
   "source": [
    "print('Meses promedio de uso de usuarios que dejaron la compañía:', round(df_consolidado[df_consolidado['end_date_2'] == 1]['months_using_service'].mean()))\n",
    "print('Mínimo de meses de uso de usuarios que dejaron la compañía:',df_consolidado[df_consolidado['end_date_2'] == 1]['months_using_service'].min())\n",
    "print('Máximo de meses de uso de usuarios que dejaron la compañía:',df_consolidado[df_consolidado['end_date_2'] == 1]['months_using_service'].max())\n",
    "print('Total de usuarios que dejaron la compañía:',df_consolidado[df_consolidado['end_date_2'] == 1]['customer_id'].count())"
   ]
  },
  {
   "cell_type": "code",
   "execution_count": 67,
   "metadata": {},
   "outputs": [
    {
     "data": {
      "text/plain": [
       "months_using_service\n",
       "1     380\n",
       "2     123\n",
       "3      94\n",
       "4      83\n",
       "5      64\n",
       "     ... \n",
       "61      6\n",
       "73      6\n",
       "63      5\n",
       "65      4\n",
       "64      4\n",
       "Name: count, Length: 72, dtype: int64"
      ]
     },
     "execution_count": 67,
     "metadata": {},
     "output_type": "execute_result"
    }
   ],
   "source": [
    "df_consolidado[df_consolidado['end_date_2'] == 1]['months_using_service'].value_counts() "
   ]
  },
  {
   "cell_type": "code",
   "execution_count": 68,
   "metadata": {},
   "outputs": [
    {
     "data": {
      "text/plain": [
       "months_using_service\n",
       "1     20.331728\n",
       "2      6.581059\n",
       "3      5.029428\n",
       "4      4.440877\n",
       "5      3.424291\n",
       "        ...    \n",
       "61     0.321027\n",
       "73     0.321027\n",
       "63     0.267523\n",
       "65     0.214018\n",
       "64     0.214018\n",
       "Name: count, Length: 72, dtype: float64"
      ]
     },
     "execution_count": 68,
     "metadata": {},
     "output_type": "execute_result"
    }
   ],
   "source": [
    "(df_consolidado[df_consolidado['end_date_2'] == 1]['months_using_service'].value_counts()  / df_consolidado[df_consolidado['end_date_2'] == 1]['customer_id'].count()) * 100"
   ]
  },
  {
   "cell_type": "code",
   "execution_count": 69,
   "metadata": {},
   "outputs": [
    {
     "data": {
      "text/plain": [
       "17.53753344034243"
      ]
     },
     "execution_count": 69,
     "metadata": {},
     "output_type": "execute_result"
    }
   ],
   "source": [
    "df_consolidado[df_consolidado['end_date_2'] == 1]['total_charges_diff'].mean() "
   ]
  },
  {
   "cell_type": "markdown",
   "metadata": {},
   "source": [
    "- Como se muestra en el gráfico, la mayoría de los usuarios que dejaron la compañía, permanecieron menos de 10 meses.\n",
    "- Un 38% estuvo menos de 5 meses contratando los servicios de la empresa.\n",
    "- En promedios los usuarios que dejaron la compañía, estuvieron 18 meses.\n",
    "- Los usuarios que dejaron la compañía pagaron $17 de más sobre su pago mensual."
   ]
  },
  {
   "cell_type": "markdown",
   "metadata": {},
   "source": [
    "### Meses de uso del servicio"
   ]
  },
  {
   "cell_type": "code",
   "execution_count": 70,
   "metadata": {},
   "outputs": [
    {
     "data": {
      "image/png": "[encoded data removed]",
      "text/plain": [
       "<Figure size 2000x600 with 1 Axes>"
      ]
     },
     "metadata": {},
     "output_type": "display_data"
    }
   ],
   "source": [
    "df_consolidado['months_using_service'].hist(bins=25, figsize=(20, 6))\n",
    "plt.xlim(0, 75)\n",
    "plt.show()"
   ]
  },
  {
   "cell_type": "code",
   "execution_count": 71,
   "metadata": {},
   "outputs": [
    {
     "data": {
      "text/plain": [
       "32.81669743007241"
      ]
     },
     "execution_count": 71,
     "metadata": {},
     "output_type": "execute_result"
    }
   ],
   "source": [
    "df_consolidado['months_using_service'].mean()"
   ]
  },
  {
   "cell_type": "markdown",
   "metadata": {},
   "source": [
    "- En el gráfico se puede apreciar que tenemos una gran concentración en usuarios nuevos, los que llevan menos de 12 meses en la compañía, y por otro lado otra gran concentración en usuarios que llevan más de 70 meses en la empresa, ¡esos son más de 5 años!"
   ]
  },
  {
   "cell_type": "markdown",
   "metadata": {},
   "source": [
    "### Analizando usuarios activos y desactivos"
   ]
  },
  {
   "cell_type": "code",
   "execution_count": 72,
   "metadata": {},
   "outputs": [
    {
     "data": {
      "image/png": "[encoded data removed]",
      "text/plain": [
       "<Figure size 640x480 with 1 Axes>"
      ]
     },
     "metadata": {},
     "output_type": "display_data"
    }
   ],
   "source": [
    "_= df_consolidado.pivot_table(index='type', columns='end_date_2', values='total_charges', aggfunc='mean').plot(kind='bar')"
   ]
  },
  {
   "cell_type": "markdown",
   "metadata": {},
   "source": [
    "- Los usuarios que dejaron la compañía tenían preferencia por el tipo de pago a 2 años."
   ]
  },
  {
   "cell_type": "code",
   "execution_count": 73,
   "metadata": {},
   "outputs": [
    {
     "data": {
      "image/png": "[encoded data removed]",
      "text/plain": [
       "<Figure size 640x480 with 1 Axes>"
      ]
     },
     "metadata": {},
     "output_type": "display_data"
    }
   ],
   "source": [
    "_= df_consolidado.pivot_table(index='payment_method', columns='end_date_2', values='total_charges', aggfunc='mean').plot(kind='bar')"
   ]
  },
  {
   "cell_type": "markdown",
   "metadata": {},
   "source": [
    "- La tendencia del método de pago es similiar para los usuarios activos y desactivos, ambos prefieron los métodos de pago digitales."
   ]
  },
  {
   "cell_type": "code",
   "execution_count": 74,
   "metadata": {},
   "outputs": [
    {
     "data": {
      "image/png": "[encoded data removed]",
      "text/plain": [
       "<Figure size 1500x600 with 1 Axes>"
      ]
     },
     "metadata": {},
     "output_type": "display_data"
    }
   ],
   "source": [
    "_= df_consolidado.boxplot(column='months_using_service', by='end_date_2', figsize=(15,6))"
   ]
  },
  {
   "cell_type": "markdown",
   "metadata": {},
   "source": [
    "- Sobre los usuarios que dejaron la compañía tenemos dos grupos marcaddos:\n",
    "- Usuarios con menos de 10 meses desde que contrataron los servicios de la compañía.\n",
    "- Usuarios antigüos con más de 70 meses en la compañía, siendo estos además valores atípicos."
   ]
  },
  {
   "cell_type": "markdown",
   "metadata": {},
   "source": [
    "### Selección de características para los modelos"
   ]
  },
  {
   "cell_type": "markdown",
   "metadata": {},
   "source": [
    "- A continuación se definirá que características se usarán para los modelos:"
   ]
  },
  {
   "cell_type": "markdown",
   "metadata": {},
   "source": [
    "| Variable         | Decisión |\n",
    "|--------------|--------------|\n",
    "| customer_id    | No se usará en los modelos porque no influye en el objetivo, dado que es el identificador el usuario.  |\n",
    "|  begin_date    | No se usará en los modelos porque no influye en el objetivo, dado que es una fecha. |\n",
    "| end_date  | No se usará en los modelos porque no influye en el objetivo, dado que es una fecha.   |\n",
    "|  type| Se usará en los modelos porque influye en el objetivo, dado que dependiendo del tipo, el usuario puede dar de baja el servicio desde un mes hasta dos años.  |\n",
    "| paperless_billing | No se usará en los modelos porque no influye en el objetivo, dado que es una preferencia de cada usuario. |\n",
    "| payment_method| No se usará en los modelos porque no influye en el objetivo, dado que es una preferencia de cada usuario. |\n",
    "| monthly_charges | Se usará en los modelos porque influye en el objetivo, dado que es el monto del pago mensual del servicio. |\n",
    "|  total_charges | Se usará en los modelos porque influye en el objetivo, dado que es el monto del pago total del servicio. |\n",
    "| internet_service| Se usará en los modelos porque influye en el objetivo, dado que identifica el tipo de internet que el usuario elige. |\n",
    "| online_security | No se usará en los modelos porque no influye en el objetivo, dado que es un servicio adicional opcional. |\n",
    "| online_backup| No se usará en los modelos porque no influye en el objetivo, dado que es un servicio adicional opcional. |\n",
    "| device_protection |No se usará en los modelos porque no influye en el objetivo, dado que es un servicio adicional opcional. |\n",
    "| tech_support | No se usará en los modelos porque no influye en el objetivo, dado que es un servicio adicional opcional. |\n",
    "| streaming_tv | No se usará en los modelos porque no influye en el objetivo, dado que es un servicio adicional opcional. |\n",
    "| streaming_movies | No se usará en los modelos porque no influye en el objetivo, dado que es un servicio adicional opcional. |\n",
    "| gender | Se usará en los modelos porque influye en el objetivo, dado que identifica el género de cada usuario. |\n",
    "| senior_citizen |Se usará en los modelos porque influye en el objetivo, dado que identifica si el usuario es senior. |\n",
    "| partner | No se usará en los modelos porque no influye en el objetivo, dado que es un dato personal de cada usuario. |\n",
    "| dependents | No se usará en los modelos porque no influye en el objetivo, dado que es un dato personal de cada usuario. |\n",
    "| multiple_lines | No se usará en los modelos porque no influye en el objetivo, dado que es un servicio adicional opcional. |\n",
    "| end_date_2 | Objetivo. |\n",
    "| end_date_3 | No se usará en los modelos porque no influye en el objetivo, dado que es una fecha. |\n",
    "| months_using_service | Se usará en los modelos porque influye en el objetivo, dado que identifica los meses que el usuario ha usado el servicio. |\n",
    "| total_charges_diff | Se usará en los modelos porque influye en el objetivo, dado que identifica los cobros extras por sobre el monto mensual. |\n"
   ]
  },
  {
   "cell_type": "markdown",
   "metadata": {},
   "source": [
    "- Ahora, se dejarán fuera del dataframe las variables que no se usarán en los modelos."
   ]
  },
  {
   "cell_type": "code",
   "execution_count": 75,
   "metadata": {},
   "outputs": [],
   "source": [
    "df_consolidado = df_consolidado.drop(['begin_date', 'end_date', 'paperless_billing', 'payment_method', 'online_security', 'online_backup', 'device_protection', 'tech_support', 'streaming_tv',\n",
    "                                      'streaming_movies', 'partner', 'dependents', 'multiple_lines', 'end_date_3'], axis=1)"
   ]
  },
  {
   "cell_type": "code",
   "execution_count": 78,
   "metadata": {},
   "outputs": [
    {
     "data": {
      "text/html": [
       "<div>\n",
       "<style scoped>\n",
       "    .dataframe tbody tr th:only-of-type {\n",
       "        vertical-align: middle;\n",
       "    }\n",
       "\n",
       "    .dataframe tbody tr th {\n",
       "        vertical-align: top;\n",
       "    }\n",
       "\n",
       "    .dataframe thead th {\n",
       "        text-align: right;\n",
       "    }\n",
       "</style>\n",
       "<table border=\"1\" class=\"dataframe\">\n",
       "  <thead>\n",
       "    <tr style=\"text-align: right;\">\n",
       "      <th></th>\n",
       "      <th>customer_id</th>\n",
       "      <th>type</th>\n",
       "      <th>monthly_charges</th>\n",
       "      <th>total_charges</th>\n",
       "      <th>internet_service</th>\n",
       "      <th>gender</th>\n",
       "      <th>senior_citizen</th>\n",
       "      <th>end_date_2</th>\n",
       "      <th>months_using_service</th>\n",
       "      <th>total_charges_diff</th>\n",
       "    </tr>\n",
       "  </thead>\n",
       "  <tbody>\n",
       "    <tr>\n",
       "      <th>0</th>\n",
       "      <td>7590-VHVEG</td>\n",
       "      <td>Month-to-month</td>\n",
       "      <td>29.85</td>\n",
       "      <td>29.85</td>\n",
       "      <td>DSL</td>\n",
       "      <td>Female</td>\n",
       "      <td>0</td>\n",
       "      <td>0</td>\n",
       "      <td>1</td>\n",
       "      <td>0.00</td>\n",
       "    </tr>\n",
       "    <tr>\n",
       "      <th>1</th>\n",
       "      <td>5575-GNVDE</td>\n",
       "      <td>One year</td>\n",
       "      <td>56.95</td>\n",
       "      <td>1889.50</td>\n",
       "      <td>DSL</td>\n",
       "      <td>Male</td>\n",
       "      <td>0</td>\n",
       "      <td>0</td>\n",
       "      <td>34</td>\n",
       "      <td>46.80</td>\n",
       "    </tr>\n",
       "    <tr>\n",
       "      <th>2</th>\n",
       "      <td>3668-QPYBK</td>\n",
       "      <td>Month-to-month</td>\n",
       "      <td>53.85</td>\n",
       "      <td>108.15</td>\n",
       "      <td>DSL</td>\n",
       "      <td>Male</td>\n",
       "      <td>0</td>\n",
       "      <td>1</td>\n",
       "      <td>2</td>\n",
       "      <td>-0.45</td>\n",
       "    </tr>\n",
       "    <tr>\n",
       "      <th>3</th>\n",
       "      <td>7795-CFOCW</td>\n",
       "      <td>One year</td>\n",
       "      <td>42.30</td>\n",
       "      <td>1840.75</td>\n",
       "      <td>DSL</td>\n",
       "      <td>Male</td>\n",
       "      <td>0</td>\n",
       "      <td>0</td>\n",
       "      <td>46</td>\n",
       "      <td>105.05</td>\n",
       "    </tr>\n",
       "    <tr>\n",
       "      <th>4</th>\n",
       "      <td>9237-HQITU</td>\n",
       "      <td>Month-to-month</td>\n",
       "      <td>70.70</td>\n",
       "      <td>151.65</td>\n",
       "      <td>Fiber optic</td>\n",
       "      <td>Female</td>\n",
       "      <td>0</td>\n",
       "      <td>1</td>\n",
       "      <td>2</td>\n",
       "      <td>-10.25</td>\n",
       "    </tr>\n",
       "  </tbody>\n",
       "</table>\n",
       "</div>"
      ],
      "text/plain": [
       "  customer_id            type  monthly_charges  total_charges  \\\n",
       "0  7590-VHVEG  Month-to-month            29.85          29.85   \n",
       "1  5575-GNVDE        One year            56.95        1889.50   \n",
       "2  3668-QPYBK  Month-to-month            53.85         108.15   \n",
       "3  7795-CFOCW        One year            42.30        1840.75   \n",
       "4  9237-HQITU  Month-to-month            70.70         151.65   \n",
       "\n",
       "  internet_service  gender  senior_citizen  end_date_2  months_using_service  \\\n",
       "0              DSL  Female               0           0                     1   \n",
       "1              DSL    Male               0           0                    34   \n",
       "2              DSL    Male               0           1                     2   \n",
       "3              DSL    Male               0           0                    46   \n",
       "4      Fiber optic  Female               0           1                     2   \n",
       "\n",
       "   total_charges_diff  \n",
       "0                0.00  \n",
       "1               46.80  \n",
       "2               -0.45  \n",
       "3              105.05  \n",
       "4              -10.25  "
      ]
     },
     "execution_count": 78,
     "metadata": {},
     "output_type": "execute_result"
    }
   ],
   "source": [
    "df_consolidado.head()"
   ]
  },
  {
   "cell_type": "markdown",
   "metadata": {},
   "source": [
    "- En el siguiente paso se utilizará One Hot Encoder para los valores de clasificación."
   ]
  },
  {
   "cell_type": "code",
   "execution_count": 79,
   "metadata": {},
   "outputs": [],
   "source": [
    "df_consolidado_ohe = pd.get_dummies(df_consolidado[['type', 'internet_service', 'gender']], drop_first=True)"
   ]
  },
  {
   "cell_type": "code",
   "execution_count": 81,
   "metadata": {},
   "outputs": [
    {
     "data": {
      "text/html": [
       "<div>\n",
       "<style scoped>\n",
       "    .dataframe tbody tr th:only-of-type {\n",
       "        vertical-align: middle;\n",
       "    }\n",
       "\n",
       "    .dataframe tbody tr th {\n",
       "        vertical-align: top;\n",
       "    }\n",
       "\n",
       "    .dataframe thead th {\n",
       "        text-align: right;\n",
       "    }\n",
       "</style>\n",
       "<table border=\"1\" class=\"dataframe\">\n",
       "  <thead>\n",
       "    <tr style=\"text-align: right;\">\n",
       "      <th></th>\n",
       "      <th>type_One year</th>\n",
       "      <th>type_Two year</th>\n",
       "      <th>internet_service_Fiber optic</th>\n",
       "      <th>internet_service_No</th>\n",
       "      <th>gender_Male</th>\n",
       "    </tr>\n",
       "  </thead>\n",
       "  <tbody>\n",
       "    <tr>\n",
       "      <th>0</th>\n",
       "      <td>False</td>\n",
       "      <td>False</td>\n",
       "      <td>False</td>\n",
       "      <td>False</td>\n",
       "      <td>False</td>\n",
       "    </tr>\n",
       "    <tr>\n",
       "      <th>1</th>\n",
       "      <td>True</td>\n",
       "      <td>False</td>\n",
       "      <td>False</td>\n",
       "      <td>False</td>\n",
       "      <td>True</td>\n",
       "    </tr>\n",
       "    <tr>\n",
       "      <th>2</th>\n",
       "      <td>False</td>\n",
       "      <td>False</td>\n",
       "      <td>False</td>\n",
       "      <td>False</td>\n",
       "      <td>True</td>\n",
       "    </tr>\n",
       "    <tr>\n",
       "      <th>3</th>\n",
       "      <td>True</td>\n",
       "      <td>False</td>\n",
       "      <td>False</td>\n",
       "      <td>False</td>\n",
       "      <td>True</td>\n",
       "    </tr>\n",
       "    <tr>\n",
       "      <th>4</th>\n",
       "      <td>False</td>\n",
       "      <td>False</td>\n",
       "      <td>True</td>\n",
       "      <td>False</td>\n",
       "      <td>False</td>\n",
       "    </tr>\n",
       "  </tbody>\n",
       "</table>\n",
       "</div>"
      ],
      "text/plain": [
       "   type_One year  type_Two year  internet_service_Fiber optic  \\\n",
       "0          False          False                         False   \n",
       "1           True          False                         False   \n",
       "2          False          False                         False   \n",
       "3           True          False                         False   \n",
       "4          False          False                          True   \n",
       "\n",
       "   internet_service_No  gender_Male  \n",
       "0                False        False  \n",
       "1                False         True  \n",
       "2                False         True  \n",
       "3                False         True  \n",
       "4                False        False  "
      ]
     },
     "execution_count": 81,
     "metadata": {},
     "output_type": "execute_result"
    }
   ],
   "source": [
    "df_consolidado_ohe.head()"
   ]
  },
  {
   "cell_type": "markdown",
   "metadata": {},
   "source": [
    "- A continuación se une el dataframe al cual se aplicó el enconder con el resto del dataframe."
   ]
  },
  {
   "cell_type": "code",
   "execution_count": 82,
   "metadata": {},
   "outputs": [],
   "source": [
    "df_consolidado = pd.merge(df_consolidado, df_consolidado_ohe, left_index=True, right_index=True, how='outer')"
   ]
  },
  {
   "cell_type": "code",
   "execution_count": 83,
   "metadata": {},
   "outputs": [
    {
     "data": {
      "text/html": [
       "<div>\n",
       "<style scoped>\n",
       "    .dataframe tbody tr th:only-of-type {\n",
       "        vertical-align: middle;\n",
       "    }\n",
       "\n",
       "    .dataframe tbody tr th {\n",
       "        vertical-align: top;\n",
       "    }\n",
       "\n",
       "    .dataframe thead th {\n",
       "        text-align: right;\n",
       "    }\n",
       "</style>\n",
       "<table border=\"1\" class=\"dataframe\">\n",
       "  <thead>\n",
       "    <tr style=\"text-align: right;\">\n",
       "      <th></th>\n",
       "      <th>customer_id</th>\n",
       "      <th>type</th>\n",
       "      <th>monthly_charges</th>\n",
       "      <th>total_charges</th>\n",
       "      <th>internet_service</th>\n",
       "      <th>gender</th>\n",
       "      <th>senior_citizen</th>\n",
       "      <th>end_date_2</th>\n",
       "      <th>months_using_service</th>\n",
       "      <th>total_charges_diff</th>\n",
       "      <th>type_One year</th>\n",
       "      <th>type_Two year</th>\n",
       "      <th>internet_service_Fiber optic</th>\n",
       "      <th>internet_service_No</th>\n",
       "      <th>gender_Male</th>\n",
       "    </tr>\n",
       "  </thead>\n",
       "  <tbody>\n",
       "    <tr>\n",
       "      <th>0</th>\n",
       "      <td>7590-VHVEG</td>\n",
       "      <td>Month-to-month</td>\n",
       "      <td>29.85</td>\n",
       "      <td>29.85</td>\n",
       "      <td>DSL</td>\n",
       "      <td>Female</td>\n",
       "      <td>0</td>\n",
       "      <td>0</td>\n",
       "      <td>1</td>\n",
       "      <td>0.00</td>\n",
       "      <td>False</td>\n",
       "      <td>False</td>\n",
       "      <td>False</td>\n",
       "      <td>False</td>\n",
       "      <td>False</td>\n",
       "    </tr>\n",
       "    <tr>\n",
       "      <th>1</th>\n",
       "      <td>5575-GNVDE</td>\n",
       "      <td>One year</td>\n",
       "      <td>56.95</td>\n",
       "      <td>1889.50</td>\n",
       "      <td>DSL</td>\n",
       "      <td>Male</td>\n",
       "      <td>0</td>\n",
       "      <td>0</td>\n",
       "      <td>34</td>\n",
       "      <td>46.80</td>\n",
       "      <td>True</td>\n",
       "      <td>False</td>\n",
       "      <td>False</td>\n",
       "      <td>False</td>\n",
       "      <td>True</td>\n",
       "    </tr>\n",
       "    <tr>\n",
       "      <th>2</th>\n",
       "      <td>3668-QPYBK</td>\n",
       "      <td>Month-to-month</td>\n",
       "      <td>53.85</td>\n",
       "      <td>108.15</td>\n",
       "      <td>DSL</td>\n",
       "      <td>Male</td>\n",
       "      <td>0</td>\n",
       "      <td>1</td>\n",
       "      <td>2</td>\n",
       "      <td>-0.45</td>\n",
       "      <td>False</td>\n",
       "      <td>False</td>\n",
       "      <td>False</td>\n",
       "      <td>False</td>\n",
       "      <td>True</td>\n",
       "    </tr>\n",
       "    <tr>\n",
       "      <th>3</th>\n",
       "      <td>7795-CFOCW</td>\n",
       "      <td>One year</td>\n",
       "      <td>42.30</td>\n",
       "      <td>1840.75</td>\n",
       "      <td>DSL</td>\n",
       "      <td>Male</td>\n",
       "      <td>0</td>\n",
       "      <td>0</td>\n",
       "      <td>46</td>\n",
       "      <td>105.05</td>\n",
       "      <td>True</td>\n",
       "      <td>False</td>\n",
       "      <td>False</td>\n",
       "      <td>False</td>\n",
       "      <td>True</td>\n",
       "    </tr>\n",
       "    <tr>\n",
       "      <th>4</th>\n",
       "      <td>9237-HQITU</td>\n",
       "      <td>Month-to-month</td>\n",
       "      <td>70.70</td>\n",
       "      <td>151.65</td>\n",
       "      <td>Fiber optic</td>\n",
       "      <td>Female</td>\n",
       "      <td>0</td>\n",
       "      <td>1</td>\n",
       "      <td>2</td>\n",
       "      <td>-10.25</td>\n",
       "      <td>False</td>\n",
       "      <td>False</td>\n",
       "      <td>True</td>\n",
       "      <td>False</td>\n",
       "      <td>False</td>\n",
       "    </tr>\n",
       "  </tbody>\n",
       "</table>\n",
       "</div>"
      ],
      "text/plain": [
       "  customer_id            type  monthly_charges  total_charges  \\\n",
       "0  7590-VHVEG  Month-to-month            29.85          29.85   \n",
       "1  5575-GNVDE        One year            56.95        1889.50   \n",
       "2  3668-QPYBK  Month-to-month            53.85         108.15   \n",
       "3  7795-CFOCW        One year            42.30        1840.75   \n",
       "4  9237-HQITU  Month-to-month            70.70         151.65   \n",
       "\n",
       "  internet_service  gender  senior_citizen  end_date_2  months_using_service  \\\n",
       "0              DSL  Female               0           0                     1   \n",
       "1              DSL    Male               0           0                    34   \n",
       "2              DSL    Male               0           1                     2   \n",
       "3              DSL    Male               0           0                    46   \n",
       "4      Fiber optic  Female               0           1                     2   \n",
       "\n",
       "   total_charges_diff  type_One year  type_Two year  \\\n",
       "0                0.00          False          False   \n",
       "1               46.80           True          False   \n",
       "2               -0.45          False          False   \n",
       "3              105.05           True          False   \n",
       "4              -10.25          False          False   \n",
       "\n",
       "   internet_service_Fiber optic  internet_service_No  gender_Male  \n",
       "0                         False                False        False  \n",
       "1                         False                False         True  \n",
       "2                         False                False         True  \n",
       "3                         False                False         True  \n",
       "4                          True                False        False  "
      ]
     },
     "execution_count": 83,
     "metadata": {},
     "output_type": "execute_result"
    }
   ],
   "source": [
    "df_consolidado.head()"
   ]
  },
  {
   "cell_type": "markdown",
   "metadata": {},
   "source": [
    "- A continuación se quitan del dataframe los valores que fueron pasados por el enconder, además del customer id, dado que ya no vamos a unir dataframes."
   ]
  },
  {
   "cell_type": "code",
   "execution_count": 84,
   "metadata": {},
   "outputs": [],
   "source": [
    "df_consolidado = df_consolidado.drop(['customer_id', 'type', 'internet_service', 'gender'], axis=1)"
   ]
  },
  {
   "cell_type": "code",
   "execution_count": 86,
   "metadata": {},
   "outputs": [
    {
     "data": {
      "text/html": [
       "<div>\n",
       "<style scoped>\n",
       "    .dataframe tbody tr th:only-of-type {\n",
       "        vertical-align: middle;\n",
       "    }\n",
       "\n",
       "    .dataframe tbody tr th {\n",
       "        vertical-align: top;\n",
       "    }\n",
       "\n",
       "    .dataframe thead th {\n",
       "        text-align: right;\n",
       "    }\n",
       "</style>\n",
       "<table border=\"1\" class=\"dataframe\">\n",
       "  <thead>\n",
       "    <tr style=\"text-align: right;\">\n",
       "      <th></th>\n",
       "      <th>monthly_charges</th>\n",
       "      <th>total_charges</th>\n",
       "      <th>senior_citizen</th>\n",
       "      <th>end_date_2</th>\n",
       "      <th>months_using_service</th>\n",
       "      <th>total_charges_diff</th>\n",
       "      <th>type_One year</th>\n",
       "      <th>type_Two year</th>\n",
       "      <th>internet_service_Fiber optic</th>\n",
       "      <th>internet_service_No</th>\n",
       "      <th>gender_Male</th>\n",
       "    </tr>\n",
       "  </thead>\n",
       "  <tbody>\n",
       "    <tr>\n",
       "      <th>0</th>\n",
       "      <td>29.85</td>\n",
       "      <td>29.85</td>\n",
       "      <td>0</td>\n",
       "      <td>0</td>\n",
       "      <td>1</td>\n",
       "      <td>0.00</td>\n",
       "      <td>False</td>\n",
       "      <td>False</td>\n",
       "      <td>False</td>\n",
       "      <td>False</td>\n",
       "      <td>False</td>\n",
       "    </tr>\n",
       "    <tr>\n",
       "      <th>1</th>\n",
       "      <td>56.95</td>\n",
       "      <td>1889.50</td>\n",
       "      <td>0</td>\n",
       "      <td>0</td>\n",
       "      <td>34</td>\n",
       "      <td>46.80</td>\n",
       "      <td>True</td>\n",
       "      <td>False</td>\n",
       "      <td>False</td>\n",
       "      <td>False</td>\n",
       "      <td>True</td>\n",
       "    </tr>\n",
       "    <tr>\n",
       "      <th>2</th>\n",
       "      <td>53.85</td>\n",
       "      <td>108.15</td>\n",
       "      <td>0</td>\n",
       "      <td>1</td>\n",
       "      <td>2</td>\n",
       "      <td>-0.45</td>\n",
       "      <td>False</td>\n",
       "      <td>False</td>\n",
       "      <td>False</td>\n",
       "      <td>False</td>\n",
       "      <td>True</td>\n",
       "    </tr>\n",
       "    <tr>\n",
       "      <th>3</th>\n",
       "      <td>42.30</td>\n",
       "      <td>1840.75</td>\n",
       "      <td>0</td>\n",
       "      <td>0</td>\n",
       "      <td>46</td>\n",
       "      <td>105.05</td>\n",
       "      <td>True</td>\n",
       "      <td>False</td>\n",
       "      <td>False</td>\n",
       "      <td>False</td>\n",
       "      <td>True</td>\n",
       "    </tr>\n",
       "    <tr>\n",
       "      <th>4</th>\n",
       "      <td>70.70</td>\n",
       "      <td>151.65</td>\n",
       "      <td>0</td>\n",
       "      <td>1</td>\n",
       "      <td>2</td>\n",
       "      <td>-10.25</td>\n",
       "      <td>False</td>\n",
       "      <td>False</td>\n",
       "      <td>True</td>\n",
       "      <td>False</td>\n",
       "      <td>False</td>\n",
       "    </tr>\n",
       "  </tbody>\n",
       "</table>\n",
       "</div>"
      ],
      "text/plain": [
       "   monthly_charges  total_charges  senior_citizen  end_date_2  \\\n",
       "0            29.85          29.85               0           0   \n",
       "1            56.95        1889.50               0           0   \n",
       "2            53.85         108.15               0           1   \n",
       "3            42.30        1840.75               0           0   \n",
       "4            70.70         151.65               0           1   \n",
       "\n",
       "   months_using_service  total_charges_diff  type_One year  type_Two year  \\\n",
       "0                     1                0.00          False          False   \n",
       "1                    34               46.80           True          False   \n",
       "2                     2               -0.45          False          False   \n",
       "3                    46              105.05           True          False   \n",
       "4                     2              -10.25          False          False   \n",
       "\n",
       "   internet_service_Fiber optic  internet_service_No  gender_Male  \n",
       "0                         False                False        False  \n",
       "1                         False                False         True  \n",
       "2                         False                False         True  \n",
       "3                         False                False         True  \n",
       "4                          True                False        False  "
      ]
     },
     "execution_count": 86,
     "metadata": {},
     "output_type": "execute_result"
    }
   ],
   "source": [
    "df_consolidado.head()"
   ]
  },
  {
   "cell_type": "markdown",
   "metadata": {},
   "source": [
    "- Ahora se separará el dataframe en features, target y df de entrenamiento y validación."
   ]
  },
  {
   "cell_type": "code",
   "execution_count": 87,
   "metadata": {},
   "outputs": [],
   "source": [
    "features = df_consolidado.drop(['end_date_2'], axis=1)\n",
    "target  = df_consolidado['end_date_2']\n",
    "\n",
    "features_train, features_valid, target_train, target_valid = train_test_split(features, target, test_size=0.25, random_state=12345)"
   ]
  },
  {
   "cell_type": "markdown",
   "metadata": {},
   "source": [
    "- En el siguiente paso se hará un escalado a las variables no booleanas."
   ]
  },
  {
   "cell_type": "code",
   "execution_count": 88,
   "metadata": {},
   "outputs": [],
   "source": [
    "numeric = ['monthly_charges', 'total_charges', 'months_using_service', 'total_charges_diff']\n",
    "\n",
    "scaler = StandardScaler()\n",
    "scaler.fit(features_train[numeric])\n",
    "features_train[numeric] = scaler.transform(features_train[numeric])\n",
    "\n",
    "features_train_scaled = scaler.transform(features_train[numeric])\n",
    "features_valid[numeric] = scaler.transform(features_valid[numeric])"
   ]
  },
  {
   "cell_type": "markdown",
   "metadata": {},
   "source": [
    "# Entrenado los modelos"
   ]
  },
  {
   "cell_type": "markdown",
   "metadata": {},
   "source": [
    "### Árbol de decisiones"
   ]
  },
  {
   "cell_type": "markdown",
   "metadata": {},
   "source": [
    "-  Con el siguiente bucle for se pretende encontrar los mejores hiperparámetros para el modelo."
   ]
  },
  {
   "cell_type": "code",
   "execution_count": 90,
   "metadata": {},
   "outputs": [
    {
     "name": "stdout",
     "output_type": "stream",
     "text": [
      "roc_auc_score: 0.5 Max depth: 1\n",
      "roc_auc_score: 0.6644586074965821 Max depth: 2\n",
      "roc_auc_score: 0.6644586074965821 Max depth: 3\n",
      "roc_auc_score: 0.6727916949435936 Max depth: 4\n",
      "roc_auc_score: 0.6713483422344182 Max depth: 5\n",
      "roc_auc_score: 0.6897283447916358 Max depth: 6\n",
      "roc_auc_score: 0.6711835983987883 Max depth: 7\n",
      "roc_auc_score: 0.6748497634573584 Max depth: 8\n",
      "roc_auc_score: 0.6631357390851061 Max depth: 9\n",
      "roc_auc_score: 0.6717442192125737 Max depth: 10\n",
      "roc_auc_score: 0.6650831587540449 Max depth: 11\n",
      "roc_auc_score: 0.6680829718804403 Max depth: 12\n",
      "roc_auc_score: 0.672469583861989 Max depth: 13\n",
      "roc_auc_score: 0.6563714063714063 Max depth: 14\n",
      "roc_auc_score: 0.6474875335634829 Max depth: 15\n",
      "roc_auc_score: 0.643491880833653 Max depth: 16\n",
      "roc_auc_score: 0.6372734157544284 Max depth: 17\n",
      "roc_auc_score: 0.6448786796888062 Max depth: 18\n",
      "roc_auc_score: 0.6406617292693243 Max depth: 19\n"
     ]
    }
   ],
   "source": [
    "for d in range(1, 20):\n",
    "    model = DecisionTreeClassifier(random_state=1234, max_depth = d)\n",
    "    model.fit(features_train, target_train)\n",
    "    predictions_dtc = model.predict(features_valid)\n",
    "    print('roc_auc_score:', roc_auc_score(target_valid, predictions_dtc), 'Max depth:', d)"
   ]
  },
  {
   "cell_type": "code",
   "execution_count": 91,
   "metadata": {},
   "outputs": [
    {
     "name": "stdout",
     "output_type": "stream",
     "text": [
      "AUC-ROC Score: 0.6897283447916358\n"
     ]
    }
   ],
   "source": [
    "model_dtc = DecisionTreeClassifier(random_state=1234, max_depth=6)\n",
    "model_dtc.fit(features_train, target_train)\n",
    "\n",
    "predictions_dtc = model_dtc.predict(features_valid)\n",
    "\n",
    "auc_roc_dtc = roc_auc_score(target_valid, predictions_dtc)\n",
    "accuracy = accuracy_score(target_valid, predictions_dtc)\n",
    "\n",
    "print(\"AUC-ROC Score:\", auc_roc_dtc)"
   ]
  },
  {
   "cell_type": "markdown",
   "metadata": {},
   "source": [
    "- Con el mejor max_depth (6), el auc-roc es de 0.69, valor que se aleja del exigido por la compañía. El actual score nos dice que este modelo tiene una capacidad de discriminación pobre y es dificilmente útil para la clasifiación."
   ]
  },
  {
   "cell_type": "markdown",
   "metadata": {},
   "source": [
    "### Aplicando Sobre y Submuestreo"
   ]
  },
  {
   "cell_type": "code",
   "execution_count": 92,
   "metadata": {},
   "outputs": [
    {
     "name": "stdout",
     "output_type": "stream",
     "text": [
      "roc_auc_score: 0.64856943337956 Max depth: 1\n",
      "roc_auc_score: 0.735138630708251 Max depth: 2\n",
      "roc_auc_score: 0.7347501303197507 Max depth: 3\n",
      "roc_auc_score: 0.7639860139860141 Max depth: 4\n",
      "roc_auc_score: 0.762257433143509 Max depth: 5\n",
      "roc_auc_score: 0.7437864526472122 Max depth: 6\n",
      "roc_auc_score: 0.7446126306885799 Max depth: 7\n",
      "roc_auc_score: 0.7479911087506023 Max depth: 8\n",
      "roc_auc_score: 0.7271227366164076 Max depth: 9\n",
      "roc_auc_score: 0.7124654529717821 Max depth: 10\n",
      "roc_auc_score: 0.7147399014487621 Max depth: 11\n",
      "roc_auc_score: 0.7131809821683239 Max depth: 12\n",
      "roc_auc_score: 0.7087402751959714 Max depth: 13\n",
      "roc_auc_score: 0.6997432946800035 Max depth: 14\n",
      "roc_auc_score: 0.6897480156973828 Max depth: 15\n",
      "roc_auc_score: 0.6800305882584363 Max depth: 16\n",
      "roc_auc_score: 0.6696468088873152 Max depth: 17\n",
      "roc_auc_score: 0.6551001740875159 Max depth: 18\n",
      "roc_auc_score: 0.6593736783610201 Max depth: 19\n"
     ]
    }
   ],
   "source": [
    "def upsample(features, target, repeat):\n",
    "    features_zeros = features[target == 0]\n",
    "    features_ones = features[target == 1]\n",
    "    target_zeros = target[target == 0]\n",
    "    target_ones = target[target == 1]\n",
    "\n",
    "    features_upsampled = pd.concat([features_zeros] + [features_ones] * repeat)\n",
    "    target_upsampled = pd.concat([target_zeros] + [target_ones] * repeat)\n",
    "\n",
    "    features_upsampled, target_upsampled = shuffle(features_upsampled, target_upsampled, random_state=1234)\n",
    "\n",
    "    return features_upsampled, target_upsampled\n",
    "\n",
    "features_upsampled, target_upsampled = upsample(features_train, target_train, 3)\n",
    "\n",
    "for d in range(1, 20):\n",
    "    model = DecisionTreeClassifier(random_state=1234, max_depth = d)\n",
    "    model.fit(features_upsampled, target_upsampled)\n",
    "    predictions_dtc_upsampled = model.predict(features_valid)\n",
    "    print('roc_auc_score:', roc_auc_score(target_valid, predictions_dtc_upsampled), 'Max depth:', d)"
   ]
  },
  {
   "cell_type": "code",
   "execution_count": 93,
   "metadata": {},
   "outputs": [
    {
     "name": "stdout",
     "output_type": "stream",
     "text": [
      "roc_auc_score: 0.64856943337956 Max depth: 1\n",
      "roc_auc_score: 0.735138630708251 Max depth: 2\n",
      "roc_auc_score: 0.735138630708251 Max depth: 3\n",
      "roc_auc_score: 0.763317203190621 Max depth: 4\n",
      "roc_auc_score: 0.7412390703529945 Max depth: 5\n",
      "roc_auc_score: 0.7272456797773253 Max depth: 6\n",
      "roc_auc_score: 0.7193060104452509 Max depth: 7\n",
      "roc_auc_score: 0.7150866011625505 Max depth: 8\n",
      "roc_auc_score: 0.7057035791213006 Max depth: 9\n",
      "roc_auc_score: 0.6898783354479558 Max depth: 10\n",
      "roc_auc_score: 0.681385421891751 Max depth: 11\n",
      "roc_auc_score: 0.6764431068228537 Max depth: 12\n",
      "roc_auc_score: 0.6740014556470253 Max depth: 13\n",
      "roc_auc_score: 0.6676698828597563 Max depth: 14\n",
      "roc_auc_score: 0.660674417003531 Max depth: 15\n",
      "roc_auc_score: 0.6550682088656773 Max depth: 16\n",
      "roc_auc_score: 0.662562823955229 Max depth: 17\n",
      "roc_auc_score: 0.6672248286172336 Max depth: 18\n",
      "roc_auc_score: 0.6502365426416059 Max depth: 19\n"
     ]
    }
   ],
   "source": [
    "def downsample(features, target, fraction):\n",
    "    features_zeros = features[target == 0]\n",
    "    features_ones = features[target == 1]\n",
    "    target_zeros = target[target == 0]\n",
    "    target_ones = target[target == 1]\n",
    "\n",
    "    features_downsampled = pd.concat([features_zeros.sample(frac=fraction, random_state=1234)] + [features_ones])\n",
    "    target_downsampled = pd.concat([target_zeros.sample(frac=fraction, random_state=1234)] + [target_ones])\n",
    "\n",
    "    features_downsampled, target_downsampled = shuffle(features_downsampled, target_downsampled, random_state=1234)\n",
    "\n",
    "    return features_downsampled, target_downsampled\n",
    "\n",
    "features_downsampled, target_downsampled = downsample(features_train, target_train, 0.3)\n",
    "\n",
    "for d in range(1, 20):\n",
    "    model = DecisionTreeClassifier(random_state=1234, max_depth = d)\n",
    "    model.fit(features_downsampled, target_downsampled)\n",
    "    predictions_dtc_downsampled = model.predict(features_valid)\n",
    "    print('roc_auc_score:', roc_auc_score(target_valid, predictions_dtc_downsampled), 'Max depth:', d)"
   ]
  },
  {
   "cell_type": "code",
   "execution_count": 94,
   "metadata": {},
   "outputs": [
    {
     "name": "stdout",
     "output_type": "stream",
     "text": [
      "AUC-ROC Score: 0.763317203190621\n"
     ]
    }
   ],
   "source": [
    "model_dtc = DecisionTreeClassifier(random_state=1234, max_depth=4)\n",
    "model_dtc.fit(features_downsampled, target_downsampled)\n",
    "\n",
    "predictions_dtc_downsampled = model_dtc.predict(features_valid)\n",
    "\n",
    "auc_roc_dtc_downsampled = roc_auc_score(target_valid, predictions_dtc_downsampled)\n",
    "\n",
    "print(\"AUC-ROC Score:\", auc_roc_dtc_downsampled)"
   ]
  },
  {
   "cell_type": "markdown",
   "metadata": {},
   "source": [
    "- El Submuestreo tiene un mayor valor auc-roc.\n",
    "- El score del auc-roc con el submuestreo es de 0.76 el cual es mayor al score original de 0.69.\n",
    "- Aún así, el score sigue siendo  bajo para lo requerido por la compañía."
   ]
  },
  {
   "cell_type": "markdown",
   "metadata": {},
   "source": [
    "### Random Forest Regressor"
   ]
  },
  {
   "cell_type": "markdown",
   "metadata": {},
   "source": [
    "-  Con el siguiente Grid Search se pretende encontrar los mejores hiperparámetros para el modelo."
   ]
  },
  {
   "cell_type": "code",
   "execution_count": 95,
   "metadata": {},
   "outputs": [
    {
     "name": "stdout",
     "output_type": "stream",
     "text": [
      "Mejores Hiperparámetros: {'max_depth': 4, 'n_estimators': 15}\n"
     ]
    }
   ],
   "source": [
    "model_rfr = RandomForestRegressor(random_state=1234)\n",
    "\n",
    "param_grid = {\n",
    "    'n_estimators': [5, 10, 15],\n",
    "    'max_depth': [2, 4, 8]\n",
    "    #'min_samples_split': [2, 5, 10],\n",
    "    #'min_samples_leaf': [1, 2, 4]\n",
    "}\n",
    "\n",
    "grid_search = GridSearchCV(estimator=model_rfr, param_grid=param_grid, cv=3, scoring='neg_mean_squared_error')\n",
    "grid_search.fit(features_train, target_train)\n",
    "best_params = grid_search.best_params_\n",
    "print(\"Mejores Hiperparámetros:\", best_params)\n",
    "best_model = grid_search.best_estimator_"
   ]
  },
  {
   "cell_type": "code",
   "execution_count": 96,
   "metadata": {},
   "outputs": [
    {
     "name": "stdout",
     "output_type": "stream",
     "text": [
      "AUC-ROC Score: 0.8327694340352568\n",
      "CPU times: total: 46.9 ms\n",
      "Wall time: 85.9 ms\n"
     ]
    }
   ],
   "source": [
    "%%time\n",
    "model_rfr = RandomForestRegressor(random_state=1234, max_depth=4, n_estimators=15)\n",
    "model_rfr.fit(features_train, target_train)\n",
    "predictions_rfr = model_rfr.predict(features_valid)\n",
    "\n",
    "auc_roc_rfr = roc_auc_score(target_valid, predictions_rfr)\n",
    "\n",
    "print(\"AUC-ROC Score:\", auc_roc_rfr)"
   ]
  },
  {
   "cell_type": "markdown",
   "metadata": {},
   "source": [
    "- Con este modelo obtenemos un score de 0.83, siendo este un valor superior a los modelos anteriores.\n",
    "- El valor del score nos dice que el modelo tiene una capacidad de discriminación aceptable y puede ser útil para la clasificación en algunos casos."
   ]
  },
  {
   "cell_type": "markdown",
   "metadata": {},
   "source": [
    "### Aplicando Sobre y Submuestreo"
   ]
  },
  {
   "cell_type": "code",
   "execution_count": 97,
   "metadata": {},
   "outputs": [
    {
     "name": "stdout",
     "output_type": "stream",
     "text": [
      "Mejores Hiperparámetros: {'max_depth': 40, 'n_estimators': 55}\n"
     ]
    }
   ],
   "source": [
    "model_rfr = RandomForestRegressor(random_state=1234)\n",
    "\n",
    "param_grid = {\n",
    "    'n_estimators': [5, 10, 55],\n",
    "    'max_depth': [2, 4, 40]\n",
    "    #'min_samples_split': [2, 5, 10],\n",
    "    #'min_samples_leaf': [1, 2, 4]\n",
    "}\n",
    "\n",
    "grid_search = GridSearchCV(estimator=model_rfr, param_grid=param_grid, cv=3, scoring='neg_mean_squared_error')\n",
    "grid_search.fit(features_upsampled, target_upsampled)\n",
    "best_params = grid_search.best_params_\n",
    "print(\"Mejores Hiperparámetros:\", best_params)\n",
    "best_model = grid_search.best_estimator_"
   ]
  },
  {
   "cell_type": "code",
   "execution_count": 98,
   "metadata": {},
   "outputs": [
    {
     "name": "stdout",
     "output_type": "stream",
     "text": [
      "AUC-ROC Score: 0.7831307230041408\n"
     ]
    }
   ],
   "source": [
    "model_rfr = RandomForestRegressor(random_state=1234, max_depth=40, n_estimators=55)\n",
    "model_rfr.fit(features_upsampled, target_upsampled)\n",
    "predictions_rfr = model_rfr.predict(features_valid)\n",
    "\n",
    "auc_roc = roc_auc_score(target_valid, predictions_rfr)\n",
    "\n",
    "print(\"AUC-ROC Score:\", auc_roc)"
   ]
  },
  {
   "cell_type": "code",
   "execution_count": 99,
   "metadata": {},
   "outputs": [
    {
     "name": "stdout",
     "output_type": "stream",
     "text": [
      "Mejores Hiperparámetros: {'max_depth': 4, 'n_estimators': 55}\n"
     ]
    }
   ],
   "source": [
    "model_rfr = RandomForestRegressor(random_state=1234)\n",
    "\n",
    "param_grid = {\n",
    "    'n_estimators': [5, 10, 55],\n",
    "    'max_depth': [2, 4, 40]\n",
    "    #'min_samples_split': [2, 5, 10],\n",
    "    #'min_samples_leaf': [1, 2, 4]\n",
    "}\n",
    "\n",
    "grid_search = GridSearchCV(estimator=model_rfr, param_grid=param_grid, cv=3, scoring='neg_mean_squared_error')\n",
    "grid_search.fit(features_downsampled, target_downsampled)\n",
    "best_params = grid_search.best_params_\n",
    "print(\"Mejores Hiperparámetros:\", best_params)\n",
    "best_model = grid_search.best_estimator_"
   ]
  },
  {
   "cell_type": "code",
   "execution_count": 100,
   "metadata": {},
   "outputs": [
    {
     "name": "stdout",
     "output_type": "stream",
     "text": [
      "AUC-ROC Score: 0.8309892170651665\n"
     ]
    }
   ],
   "source": [
    "model_rfr = RandomForestRegressor(random_state=1234, max_depth=4, n_estimators=55)\n",
    "model_rfr.fit(features_downsampled, target_downsampled)\n",
    "predictions_rfr = model_rfr.predict(features_valid)\n",
    "\n",
    "auc_roc = roc_auc_score(target_valid, predictions_rfr)\n",
    "\n",
    "print(\"AUC-ROC Score:\", auc_roc)"
   ]
  },
  {
   "cell_type": "markdown",
   "metadata": {},
   "source": [
    "- Los sobre y submuestreos en este modelo no generan mejores resultados, para este modelo se recomienda usar la versión original."
   ]
  },
  {
   "cell_type": "markdown",
   "metadata": {},
   "source": [
    "### Regresión Lineal"
   ]
  },
  {
   "cell_type": "markdown",
   "metadata": {},
   "source": [
    "-  Con el siguiente Grid Search se pretende encontrar los mejores hiperparámetros para el modelo."
   ]
  },
  {
   "cell_type": "code",
   "execution_count": 101,
   "metadata": {},
   "outputs": [
    {
     "name": "stdout",
     "output_type": "stream",
     "text": [
      "Mejores Hiperparámetros: {'fit_intercept': True}\n"
     ]
    }
   ],
   "source": [
    "model_lr = LinearRegression()\n",
    "\n",
    "param_grid = {\n",
    "    'fit_intercept': [True, False]\n",
    "}\n",
    "\n",
    "grid_search = GridSearchCV(estimator=model_lr, param_grid=param_grid, cv=3, scoring='neg_mean_squared_error')\n",
    "grid_search.fit(features_train, target_train)\n",
    "best_params = grid_search.best_params_\n",
    "print(\"Mejores Hiperparámetros:\", best_params)\n",
    "best_model = grid_search.best_estimator_"
   ]
  },
  {
   "cell_type": "code",
   "execution_count": 102,
   "metadata": {},
   "outputs": [
    {
     "name": "stdout",
     "output_type": "stream",
     "text": [
      "AUC-ROC Score: 0.8301064851697761\n",
      "CPU times: total: 0 ns\n",
      "Wall time: 5 ms\n"
     ]
    }
   ],
   "source": [
    "%%time\n",
    "model_lr = LinearRegression(fit_intercept=True)\n",
    "model_lr.fit(features_train, target_train)\n",
    "predictions_lr = model_lr.predict(features_valid)\n",
    "\n",
    "auc_roc_lr = roc_auc_score(target_valid, predictions_lr)\n",
    "\n",
    "print(\"AUC-ROC Score:\", auc_roc_lr)"
   ]
  },
  {
   "cell_type": "markdown",
   "metadata": {},
   "source": [
    "- Con este modelo obtenemos un score de 0.83, siendo este un valor superior a los modelos anteriores y similar al RandomForestRegressor.\n",
    "- El valor del score nos dice que el modelo tiene una capacidad de discriminación aceptable y puede ser útil para la clasificación en algunos casos.\n",
    "- Si bien es un score similar al de RandomForestRegressor, la velocidad de procesamiento de este modelo, es superior."
   ]
  },
  {
   "cell_type": "markdown",
   "metadata": {},
   "source": [
    "### Aplicando sobre y submuestreo"
   ]
  },
  {
   "cell_type": "code",
   "execution_count": 103,
   "metadata": {},
   "outputs": [
    {
     "name": "stdout",
     "output_type": "stream",
     "text": [
      "AUC-ROC Score: 0.8345340782049642\n"
     ]
    }
   ],
   "source": [
    "model_lr = LinearRegression(fit_intercept=True)\n",
    "model_lr.fit(features_upsampled, target_upsampled)\n",
    "predictions_lr = model_lr.predict(features_valid)\n",
    "\n",
    "auc_roc = roc_auc_score(target_valid, predictions_lr)\n",
    "\n",
    "print(\"AUC-ROC Score:\", auc_roc)"
   ]
  },
  {
   "cell_type": "code",
   "execution_count": 104,
   "metadata": {},
   "outputs": [
    {
     "name": "stdout",
     "output_type": "stream",
     "text": [
      "AUC-ROC Score: 0.8337619951544003\n"
     ]
    }
   ],
   "source": [
    "model_lr = LinearRegression(fit_intercept=True)\n",
    "model_lr.fit(features_downsampled, target_downsampled)\n",
    "predictions_lr = model_lr.predict(features_valid)\n",
    "\n",
    "auc_roc = roc_auc_score(target_valid, predictions_lr)\n",
    "\n",
    "print(\"AUC-ROC Score:\", auc_roc)"
   ]
  },
  {
   "cell_type": "markdown",
   "metadata": {},
   "source": [
    "- Con el sobre y submuestreo la diferencia en de décimas, por lo que se recomiendo usar la versión original del modelo."
   ]
  },
  {
   "cell_type": "markdown",
   "metadata": {},
   "source": [
    "### Light GBM"
   ]
  },
  {
   "cell_type": "code",
   "execution_count": 105,
   "metadata": {},
   "outputs": [
    {
     "name": "stdout",
     "output_type": "stream",
     "text": [
      "[LightGBM] [Warning] Found whitespace in feature_names, replace with underlines\n",
      "[LightGBM] [Info] Auto-choosing col-wise multi-threading, the overhead of testing was 0.000696 seconds.\n",
      "You can set `force_col_wise=true` to remove the overhead.\n",
      "[LightGBM] [Info] Total Bins 851\n",
      "[LightGBM] [Info] Number of data points in the train set: 5282, number of used features: 10\n",
      "[LightGBM] [Warning] Found whitespace in feature_names, replace with underlines\n",
      "[LightGBM] [Info] Start training from score 0.264105\n",
      "Training until validation scores don't improve for 10 rounds\n",
      "Early stopping, best iteration is:\n",
      "[23]\ttest's l2: 0.140816\n",
      "CPU times: total: 734 ms\n",
      "Wall time: 54.6 ms\n"
     ]
    }
   ],
   "source": [
    "%%time\n",
    "# Configuración básica del modelo\n",
    "params = {\n",
    "    'objective': 'regression',  # Puedes cambiar a 'binary' para clasificación binaria, etc.\n",
    "    'metric': 'mse',  # MSE (Error Cuadrático Medio) como métrica de evaluación\n",
    "    'boosting_type': 'gbdt',  # Puedes probar 'dart' o 'goss' también\n",
    "    'early_stopping_rounds': 10,  # Número de rondas para esperar antes de detener el entrenamiento si no mejora la métrica\n",
    "}\n",
    "\n",
    "# Crear conjunto de datos de LightGBM\n",
    "train_data = lgb.Dataset(features_train, label=target_train)\n",
    "valid_data = lgb.Dataset(features_valid, label=target_valid, reference=train_data)\n",
    "\n",
    "# Entrenar el modelo\n",
    "num_round = 100  # Número de rondas de entrenamiento\n",
    "model = lgb.train(params, train_data, num_round, valid_sets=[valid_data], valid_names=['test'])"
   ]
  },
  {
   "cell_type": "code",
   "execution_count": 106,
   "metadata": {},
   "outputs": [
    {
     "name": "stdout",
     "output_type": "stream",
     "text": [
      "AUC-ROC Score: 0.8339226408846663\n"
     ]
    }
   ],
   "source": [
    "predictions_lgb = model.predict(features_valid, num_iteration=model.best_iteration)\n",
    "auc_roc_lgbm = roc_auc_score(target_valid, predictions_lgb)\n",
    "print(\"AUC-ROC Score:\", auc_roc_lgbm)"
   ]
  },
  {
   "cell_type": "markdown",
   "metadata": {},
   "source": [
    "- Con este modelo obtenemos un score de 0.83, siendo este un valor similar a los últimos modelos.\n",
    "- El valor del score nos dice que el modelo tiene una capacidad de discriminación aceptable y puede ser útil para la clasificación en algunos casos.\n",
    "- Si bien es un score similar a los últimos modelos, la velocidad de procesamiento de este modelo, es mayor."
   ]
  },
  {
   "cell_type": "markdown",
   "metadata": {},
   "source": [
    "### Aplicando sobre y submuestreo"
   ]
  },
  {
   "cell_type": "code",
   "execution_count": 107,
   "metadata": {},
   "outputs": [
    {
     "name": "stdout",
     "output_type": "stream",
     "text": [
      "[LightGBM] [Warning] Found whitespace in feature_names, replace with underlines\n",
      "[LightGBM] [Info] Auto-choosing col-wise multi-threading, the overhead of testing was 0.000349 seconds.\n",
      "You can set `force_col_wise=true` to remove the overhead.\n",
      "[LightGBM] [Info] Total Bins 850\n",
      "[LightGBM] [Info] Number of data points in the train set: 2561, number of used features: 10\n",
      "[LightGBM] [Warning] Found whitespace in feature_names, replace with underlines\n",
      "[LightGBM] [Info] Start training from score 0.544709\n",
      "Training until validation scores don't improve for 10 rounds\n",
      "Early stopping, best iteration is:\n",
      "[21]\ttest's l2: 0.186919\n"
     ]
    }
   ],
   "source": [
    "# Configuración básica del modelo\n",
    "params = {\n",
    "    'objective': 'regression',  # Puedes cambiar a 'binary' para clasificación binaria, etc.\n",
    "    'metric': 'mse',  # MSE (Error Cuadrático Medio) como métrica de evaluación\n",
    "    'boosting_type': 'gbdt',  # Puedes probar 'dart' o 'goss' también\n",
    "    'early_stopping_rounds': 10,  # Número de rondas para esperar antes de detener el entrenamiento si no mejora la métrica\n",
    "}\n",
    "\n",
    "# Crear conjunto de datos de LightGBM\n",
    "train_data = lgb.Dataset(features_downsampled, label=target_downsampled)\n",
    "valid_data = lgb.Dataset(features_valid, label=target_valid, reference=train_data)\n",
    "\n",
    "# Entrenar el modelo\n",
    "num_round = 100  # Número de rondas de entrenamiento\n",
    "model = lgb.train(params, train_data, num_round, valid_sets=[valid_data], valid_names=['test'])"
   ]
  },
  {
   "cell_type": "code",
   "execution_count": 108,
   "metadata": {},
   "outputs": [
    {
     "name": "stdout",
     "output_type": "stream",
     "text": [
      "AUC-ROC Score: 0.8267870198249945\n"
     ]
    }
   ],
   "source": [
    "predictions_lgb = model.predict(features_valid, num_iteration=model.best_iteration)\n",
    "auc_roc = roc_auc_score(target_valid, predictions_lgb)\n",
    "print(\"AUC-ROC Score:\", auc_roc)"
   ]
  },
  {
   "cell_type": "code",
   "execution_count": 109,
   "metadata": {},
   "outputs": [
    {
     "name": "stdout",
     "output_type": "stream",
     "text": [
      "[LightGBM] [Warning] Found whitespace in feature_names, replace with underlines\n",
      "[LightGBM] [Info] Auto-choosing col-wise multi-threading, the overhead of testing was 0.000705 seconds.\n",
      "You can set `force_col_wise=true` to remove the overhead.\n",
      "[LightGBM] [Info] Total Bins 851\n",
      "[LightGBM] [Info] Number of data points in the train set: 8072, number of used features: 10\n",
      "[LightGBM] [Warning] Found whitespace in feature_names, replace with underlines\n",
      "[LightGBM] [Info] Start training from score 0.518459\n",
      "Training until validation scores don't improve for 10 rounds\n",
      "Early stopping, best iteration is:\n",
      "[22]\ttest's l2: 0.171542\n"
     ]
    }
   ],
   "source": [
    "# Configuración básica del modelo\n",
    "params = {\n",
    "    'objective': 'regression',  # Puedes cambiar a 'binary' para clasificación binaria, etc.\n",
    "    'metric': 'mse',  # MSE (Error Cuadrático Medio) como métrica de evaluación\n",
    "    'boosting_type': 'gbdt',  # Puedes probar 'dart' o 'goss' también\n",
    "    'early_stopping_rounds': 10,  # Número de rondas para esperar antes de detener el entrenamiento si no mejora la métrica\n",
    "}\n",
    "\n",
    "# Crear conjunto de datos de LightGBM\n",
    "train_data = lgb.Dataset(features_upsampled, label=target_upsampled)\n",
    "valid_data = lgb.Dataset(features_valid, label=target_valid, reference=train_data)\n",
    "\n",
    "# Entrenar el modelo\n",
    "num_round = 100  # Número de rondas de entrenamiento\n",
    "model = lgb.train(params, train_data, num_round, valid_sets=[valid_data], valid_names=['test'])"
   ]
  },
  {
   "cell_type": "code",
   "execution_count": 110,
   "metadata": {},
   "outputs": [
    {
     "name": "stdout",
     "output_type": "stream",
     "text": [
      "AUC-ROC Score: 0.8319244047092148\n"
     ]
    }
   ],
   "source": [
    "predictions_lgb = model.predict(features_valid, num_iteration=model.best_iteration)\n",
    "auc_roc = roc_auc_score(target_valid, predictions_lgb)\n",
    "print(\"AUC-ROC Score:\", auc_roc)"
   ]
  },
  {
   "cell_type": "markdown",
   "metadata": {},
   "source": [
    "- Los sobre y submuestreos en este modelo no generan mejores resultados, para este modelo se recomienda usar la versión original."
   ]
  },
  {
   "cell_type": "markdown",
   "metadata": {},
   "source": [
    "### Regresión Logística"
   ]
  },
  {
   "cell_type": "markdown",
   "metadata": {},
   "source": [
    "-  Con el siguiente Grid Search se pretende encontrar los mejores hiperparámetros para el modelo."
   ]
  },
  {
   "cell_type": "code",
   "execution_count": 111,
   "metadata": {},
   "outputs": [
    {
     "name": "stdout",
     "output_type": "stream",
     "text": [
      "Fitting 5 folds for each of 24 candidates, totalling 120 fits\n",
      "Mejores parámetros: {'C': 10, 'penalty': 'l2', 'solver': 'liblinear'}\n",
      "Mejor modelo: LogisticRegression(C=10, solver='liblinear')\n"
     ]
    }
   ],
   "source": [
    "param_grid = {\n",
    "    'C': [0.001, 0.01, 0.1, 1, 10, 100],  # Regularización\n",
    "    'penalty': ['l1', 'l2'],  # Tipo de regularización\n",
    "    'solver': ['liblinear', 'saga']  # Algoritmo de optimización\n",
    "}\n",
    "\n",
    "# Crear el objeto GridSearchCV\n",
    "grid_search = GridSearchCV(\n",
    "    estimator=LogisticRegression(),\n",
    "    param_grid=param_grid,\n",
    "    cv=5,  # Número de validaciones cruzadas\n",
    "    scoring='accuracy',  # Métrica de evaluación\n",
    "    verbose=1,  # Muestra información detallada\n",
    "    n_jobs=-1  # Utiliza todos los núcleos de CPU disponibles\n",
    ")\n",
    "\n",
    "# Entrenar el objeto GridSearchCV\n",
    "grid_search.fit(features_train, target_train)\n",
    "\n",
    "# Obtener los mejores parámetros y el mejor modelo\n",
    "best_params = grid_search.best_params_\n",
    "best_model = grid_search.best_estimator_\n",
    "\n",
    "print(\"Mejores parámetros:\", best_params)\n",
    "print(\"Mejor modelo:\", best_model)"
   ]
  },
  {
   "cell_type": "code",
   "execution_count": 112,
   "metadata": {},
   "outputs": [
    {
     "name": "stdout",
     "output_type": "stream",
     "text": [
      "AUC-ROC Score: 0.7571577508286369\n"
     ]
    }
   ],
   "source": [
    "#model_log_r = LogisticRegression(random_state=1234, C=10, penalty='l2', solver='liblinear')\n",
    "model_log_r = LogisticRegression(random_state=1234, C=10, penalty='l2', class_weight='balanced', solver='liblinear')\n",
    "#model_log_r = LogisticRegression(random_state=1234, class_weight='balanced', solver='liblinear'\n",
    "model_log_r.fit(features_train, target_train)\n",
    "predictions_log_r = model_log_r.predict(features_valid)\n",
    "auc_roc = roc_auc_score(target_valid, predictions_log_r)\n",
    "print(\"AUC-ROC Score:\", auc_roc)"
   ]
  },
  {
   "cell_type": "markdown",
   "metadata": {},
   "source": [
    "- Se usan los mejores hiperparámetros para este modelo: C=10, penalty='l2', class_weight='balanced', solver='liblinear'.\n",
    "- El auc-roc para el modelo es de 0.69, valor que se aleja del exigido por la compañía.\n",
    "- El actual score nos dice que este modelo tiene una capacidad de discriminación pobre y es dificilmente útil para la clasifiación."
   ]
  },
  {
   "cell_type": "markdown",
   "metadata": {},
   "source": [
    "### Aplicando sobre y submuestreo"
   ]
  },
  {
   "cell_type": "code",
   "execution_count": 113,
   "metadata": {},
   "outputs": [
    {
     "name": "stdout",
     "output_type": "stream",
     "text": [
      "Fitting 5 folds for each of 24 candidates, totalling 120 fits\n",
      "Mejores parámetros: {'C': 1, 'penalty': 'l1', 'solver': 'saga'}\n",
      "Mejor modelo: LogisticRegression(C=1, penalty='l1', solver='saga')\n"
     ]
    }
   ],
   "source": [
    "param_grid = {\n",
    "    'C': [0.001, 0.01, 0.1, 1, 10, 100],  # Regularización\n",
    "    'penalty': ['l1', 'l2'],  # Tipo de regularización\n",
    "    'solver': ['liblinear', 'saga']  # Algoritmo de optimización\n",
    "}\n",
    "\n",
    "# Crear el objeto GridSearchCV\n",
    "grid_search = GridSearchCV(\n",
    "    estimator=LogisticRegression(),\n",
    "    param_grid=param_grid,\n",
    "    cv=5,  # Número de validaciones cruzadas\n",
    "    scoring='accuracy',  # Métrica de evaluación\n",
    "    verbose=1,  # Muestra información detallada\n",
    "    n_jobs=-1  # Utiliza todos los núcleos de CPU disponibles\n",
    ")\n",
    "\n",
    "# Entrenar el objeto GridSearchCV\n",
    "grid_search.fit(features_upsampled, target_upsampled)\n",
    "\n",
    "# Obtener los mejores parámetros y el mejor modelo\n",
    "best_params = grid_search.best_params_\n",
    "best_model = grid_search.best_estimator_\n",
    "\n",
    "print(\"Mejores parámetros:\", best_params)\n",
    "print(\"Mejor modelo:\", best_model)"
   ]
  },
  {
   "cell_type": "code",
   "execution_count": 114,
   "metadata": {},
   "outputs": [
    {
     "name": "stdout",
     "output_type": "stream",
     "text": [
      "AUC-ROC Score: 0.7559922496631357\n"
     ]
    }
   ],
   "source": [
    "#model_log_r = LogisticRegression(random_state=1234, C=10, penalty='l2', solver='liblinear')\n",
    "model_log_r = LogisticRegression(random_state=1234, C=1, penalty='l1', class_weight='balanced', solver='saga')\n",
    "#model_log_r = LogisticRegression(random_state=1234, class_weight='balanced', solver='liblinear'\n",
    "model_log_r.fit(features_upsampled, target_upsampled)\n",
    "predictions_log_r = model_log_r.predict(features_valid)\n",
    "auc_roc = roc_auc_score(target_valid, predictions_log_r)\n",
    "print(\"AUC-ROC Score:\", auc_roc)"
   ]
  },
  {
   "cell_type": "code",
   "execution_count": 115,
   "metadata": {},
   "outputs": [
    {
     "name": "stdout",
     "output_type": "stream",
     "text": [
      "Fitting 5 folds for each of 24 candidates, totalling 120 fits\n",
      "Mejores parámetros: {'C': 0.1, 'penalty': 'l2', 'solver': 'liblinear'}\n",
      "Mejor modelo: LogisticRegression(C=0.1, solver='liblinear')\n"
     ]
    }
   ],
   "source": [
    "param_grid = {\n",
    "    'C': [0.001, 0.01, 0.1, 1, 10, 100],  # Regularización\n",
    "    'penalty': ['l1', 'l2'],  # Tipo de regularización\n",
    "    'solver': ['liblinear', 'saga']  # Algoritmo de optimización\n",
    "}\n",
    "\n",
    "# Crear el objeto GridSearchCV\n",
    "grid_search = GridSearchCV(\n",
    "    estimator=LogisticRegression(),\n",
    "    param_grid=param_grid,\n",
    "    cv=5,  # Número de validaciones cruzadas\n",
    "    scoring='accuracy',  # Métrica de evaluación\n",
    "    verbose=1,  # Muestra información detallada\n",
    "    n_jobs=-1  # Utiliza todos los núcleos de CPU disponibles\n",
    ")\n",
    "\n",
    "# Entrenar el objeto GridSearchCV\n",
    "grid_search.fit(features_downsampled, target_downsampled)\n",
    "\n",
    "# Obtener los mejores parámetros y el mejor modelo\n",
    "best_params = grid_search.best_params_\n",
    "best_model = grid_search.best_estimator_\n",
    "\n",
    "print(\"Mejores parámetros:\", best_params)\n",
    "print(\"Mejor modelo:\", best_model)"
   ]
  },
  {
   "cell_type": "code",
   "execution_count": 116,
   "metadata": {},
   "outputs": [
    {
     "name": "stdout",
     "output_type": "stream",
     "text": [
      "AUC-ROC Score: 0.7588224012274646\n"
     ]
    }
   ],
   "source": [
    "#model_log_r = LogisticRegression(random_state=1234, C=10, penalty='l2', solver='liblinear')\n",
    "model_log_r = LogisticRegression(random_state=1234, C=0.1, penalty='l2', class_weight='balanced', solver='liblinear')\n",
    "#model_log_r = LogisticRegression(random_state=1234, class_weight='balanced', solver='liblinear'\n",
    "model_log_r.fit(features_upsampled, target_upsampled)\n",
    "predictions_log_r_upsampled = model_log_r.predict(features_valid)\n",
    "auc_roc_log_r_upsampled = roc_auc_score(target_valid, predictions_log_r_upsampled)\n",
    "print(\"AUC-ROC Score:\", auc_roc_log_r_upsampled)"
   ]
  },
  {
   "cell_type": "markdown",
   "metadata": {},
   "source": [
    "- Los sobre y submuestreos en este modelo no generan mejores resultados, para este modelo se recomienda usar la versión original."
   ]
  },
  {
   "cell_type": "markdown",
   "metadata": {},
   "source": [
    "### XGBClassifier"
   ]
  },
  {
   "cell_type": "code",
   "execution_count": 117,
   "metadata": {},
   "outputs": [
    {
     "name": "stdout",
     "output_type": "stream",
     "text": [
      "[0]\tvalidation_0-logloss:0.51359\n",
      "[1]\tvalidation_0-logloss:0.48100\n",
      "[2]\tvalidation_0-logloss:0.46072\n",
      "[3]\tvalidation_0-logloss:0.44707\n",
      "[4]\tvalidation_0-logloss:0.44121\n",
      "[5]\tvalidation_0-logloss:0.43766\n",
      "[6]\tvalidation_0-logloss:0.43663\n",
      "[7]\tvalidation_0-logloss:0.43643\n",
      "[8]\tvalidation_0-logloss:0.43656\n",
      "[9]\tvalidation_0-logloss:0.43586\n",
      "[10]\tvalidation_0-logloss:0.43573\n",
      "[11]\tvalidation_0-logloss:0.43590\n",
      "[12]\tvalidation_0-logloss:0.43739\n",
      "[13]\tvalidation_0-logloss:0.43766\n",
      "[14]\tvalidation_0-logloss:0.43701\n",
      "[15]\tvalidation_0-logloss:0.43801\n",
      "[16]\tvalidation_0-logloss:0.43861\n",
      "[17]\tvalidation_0-logloss:0.43936\n",
      "[18]\tvalidation_0-logloss:0.43980\n",
      "[19]\tvalidation_0-logloss:0.43942\n",
      "AUC-ROC Score: 0.8294860320176776\n",
      "CPU times: total: 656 ms\n",
      "Wall time: 62.1 ms\n"
     ]
    }
   ],
   "source": [
    "%%time\n",
    "# Configurar los parámetros del modelo\n",
    "params = {\n",
    "    'objective': 'binary:logistic',  # Problema de clasificación binaria\n",
    "    'eval_metric': 'logloss',  # Métrica de evaluación para la clasificación\n",
    "    'early_stopping_rounds': 10,  # Detener el entrenamiento si no mejora después de 10 iteraciones\n",
    "    # Puedes agregar más parámetros según sea necesario\n",
    "}\n",
    "\n",
    "model = XGBClassifier(**params)\n",
    "model.fit(features_train, target_train, eval_set=[(features_valid, target_valid)])\n",
    "predictions_xgb = model.predict_proba(features_valid)[:, 1]\n",
    "auc_roc_xgb = roc_auc_score(target_valid, predictions_xgb)\n",
    "print(\"AUC-ROC Score:\", auc_roc_xgb)"
   ]
  },
  {
   "cell_type": "markdown",
   "metadata": {},
   "source": [
    "- Con este modelo obtenemos un score de 0.83."
   ]
  },
  {
   "cell_type": "markdown",
   "metadata": {},
   "source": [
    "### Aplicando sobre y submuestreo"
   ]
  },
  {
   "cell_type": "code",
   "execution_count": 118,
   "metadata": {},
   "outputs": [
    {
     "name": "stdout",
     "output_type": "stream",
     "text": [
      "[0]\tvalidation_0-logloss:0.61868\n",
      "[1]\tvalidation_0-logloss:0.57160\n",
      "[2]\tvalidation_0-logloss:0.54467\n",
      "[3]\tvalidation_0-logloss:0.52871\n",
      "[4]\tvalidation_0-logloss:0.51870\n",
      "[5]\tvalidation_0-logloss:0.51403\n",
      "[6]\tvalidation_0-logloss:0.51104\n",
      "[7]\tvalidation_0-logloss:0.51053\n",
      "[8]\tvalidation_0-logloss:0.50888\n",
      "[9]\tvalidation_0-logloss:0.50851\n",
      "[10]\tvalidation_0-logloss:0.50536\n",
      "[11]\tvalidation_0-logloss:0.50575\n",
      "[12]\tvalidation_0-logloss:0.50566\n",
      "[13]\tvalidation_0-logloss:0.50586\n",
      "[14]\tvalidation_0-logloss:0.50709\n",
      "[15]\tvalidation_0-logloss:0.50700\n",
      "[16]\tvalidation_0-logloss:0.50615\n",
      "[17]\tvalidation_0-logloss:0.50424\n",
      "[18]\tvalidation_0-logloss:0.50294\n",
      "[19]\tvalidation_0-logloss:0.50289\n",
      "[20]\tvalidation_0-logloss:0.50356\n",
      "[21]\tvalidation_0-logloss:0.50229\n",
      "[22]\tvalidation_0-logloss:0.50294\n",
      "[23]\tvalidation_0-logloss:0.50346\n",
      "[24]\tvalidation_0-logloss:0.50399\n",
      "[25]\tvalidation_0-logloss:0.50596\n",
      "[26]\tvalidation_0-logloss:0.50603\n",
      "[27]\tvalidation_0-logloss:0.50710\n",
      "[28]\tvalidation_0-logloss:0.50809\n",
      "[29]\tvalidation_0-logloss:0.50778\n",
      "[30]\tvalidation_0-logloss:0.50869\n",
      "[31]\tvalidation_0-logloss:0.50773\n",
      "AUC-ROC Score: 0.8299310862602002\n",
      "CPU times: total: 1.12 s\n",
      "Wall time: 94.6 ms\n"
     ]
    }
   ],
   "source": [
    "%%time\n",
    "# Configurar los parámetros del modelo\n",
    "params = {\n",
    "    'objective': 'binary:logistic',  # Problema de clasificación binaria\n",
    "    'eval_metric': 'logloss',  # Métrica de evaluación para la clasificación\n",
    "    'early_stopping_rounds': 10,  # Detener el entrenamiento si no mejora después de 10 iteraciones\n",
    "    # Puedes agregar más parámetros según sea necesario\n",
    "}\n",
    "\n",
    "model = XGBClassifier(**params)\n",
    "model.fit(features_upsampled, target_upsampled, eval_set=[(features_valid, target_valid)])\n",
    "predictions_xgb = model.predict_proba(features_valid)[:, 1]\n",
    "auc_roc_xgb = roc_auc_score(target_valid, predictions_xgb)\n",
    "print(\"AUC-ROC Score:\", auc_roc_xgb)"
   ]
  },
  {
   "cell_type": "code",
   "execution_count": 119,
   "metadata": {},
   "outputs": [
    {
     "name": "stdout",
     "output_type": "stream",
     "text": [
      "[0]\tvalidation_0-logloss:0.65281\n",
      "[1]\tvalidation_0-logloss:0.60375\n",
      "[2]\tvalidation_0-logloss:0.58206\n",
      "[3]\tvalidation_0-logloss:0.56839\n",
      "[4]\tvalidation_0-logloss:0.55828\n",
      "[5]\tvalidation_0-logloss:0.55431\n",
      "[6]\tvalidation_0-logloss:0.55341\n",
      "[7]\tvalidation_0-logloss:0.55466\n",
      "[8]\tvalidation_0-logloss:0.55701\n",
      "[9]\tvalidation_0-logloss:0.55756\n",
      "[10]\tvalidation_0-logloss:0.55875\n",
      "[11]\tvalidation_0-logloss:0.55980\n",
      "[12]\tvalidation_0-logloss:0.56066\n",
      "[13]\tvalidation_0-logloss:0.56242\n",
      "[14]\tvalidation_0-logloss:0.56183\n",
      "[15]\tvalidation_0-logloss:0.56077\n",
      "AUC-ROC Score: 0.8253641576426386\n",
      "CPU times: total: 766 ms\n",
      "Wall time: 57.8 ms\n"
     ]
    }
   ],
   "source": [
    "%%time\n",
    "# Configurar los parámetros del modelo\n",
    "params = {\n",
    "    'objective': 'binary:logistic',  # Problema de clasificación binaria\n",
    "    'eval_metric': 'logloss',  # Métrica de evaluación para la clasificación\n",
    "    'early_stopping_rounds': 10,  # Detener el entrenamiento si no mejora después de 10 iteraciones\n",
    "    # Puedes agregar más parámetros según sea necesario\n",
    "}\n",
    "\n",
    "model = XGBClassifier(**params)\n",
    "model.fit(features_downsampled, target_downsampled, eval_set=[(features_valid, target_valid)])\n",
    "predictions_xgb = model.predict_proba(features_valid)[:, 1]\n",
    "auc_roc_xgb = roc_auc_score(target_valid, predictions_xgb)\n",
    "print(\"AUC-ROC Score:\", auc_roc_xgb)"
   ]
  },
  {
   "cell_type": "markdown",
   "metadata": {},
   "source": [
    "- Los sobre y submuestreos en este modelo no generan mejores resultados, para este modelo se recomienda usar la versión original."
   ]
  },
  {
   "cell_type": "markdown",
   "metadata": {},
   "source": [
    "### KNeighborsClassifier"
   ]
  },
  {
   "cell_type": "code",
   "execution_count": 120,
   "metadata": {},
   "outputs": [
    {
     "name": "stdout",
     "output_type": "stream",
     "text": [
      "AUC-ROC Score: 0.8267755451299755\n"
     ]
    }
   ],
   "source": [
    "model_knn = KNeighborsClassifier(n_neighbors=100)\n",
    "model_knn.fit(features_train, target_train)\n",
    "predictions_knn = model_knn.predict_proba(features_valid)[:, 1]\n",
    "auc_roc_kn = roc_auc_score(target_valid, predictions_knn)\n",
    "print(\"AUC-ROC Score:\", auc_roc_kn)"
   ]
  },
  {
   "cell_type": "markdown",
   "metadata": {},
   "source": [
    "- Con este modelo obtenemos un score de 0.826."
   ]
  },
  {
   "cell_type": "markdown",
   "metadata": {},
   "source": [
    "### Aplicando sobre y submuestreo"
   ]
  },
  {
   "cell_type": "code",
   "execution_count": 121,
   "metadata": {},
   "outputs": [
    {
     "name": "stdout",
     "output_type": "stream",
     "text": [
      "AUC-ROC Score: 0.8290237657326264\n"
     ]
    }
   ],
   "source": [
    "model_knn = KNeighborsClassifier(n_neighbors=100)\n",
    "model_knn.fit(features_upsampled, target_upsampled)\n",
    "predictions_knn = model_knn.predict_proba(features_valid)[:, 1]\n",
    "auc_roc_kn = roc_auc_score(target_valid, predictions_knn)\n",
    "print(\"AUC-ROC Score:\", auc_roc_kn)"
   ]
  },
  {
   "cell_type": "code",
   "execution_count": 122,
   "metadata": {},
   "outputs": [
    {
     "name": "stdout",
     "output_type": "stream",
     "text": [
      "AUC-ROC Score: 0.8210644254948053\n"
     ]
    }
   ],
   "source": [
    "model_knn = KNeighborsClassifier(n_neighbors=100)\n",
    "model_knn.fit(features_downsampled, target_downsampled)\n",
    "predictions_knn = model_knn.predict_proba(features_valid)[:, 1]\n",
    "auc_roc_kn = roc_auc_score(target_valid, predictions_knn)\n",
    "print(\"AUC-ROC Score:\", auc_roc_kn)"
   ]
  },
  {
   "cell_type": "markdown",
   "metadata": {},
   "source": [
    "- Los sobre y submuestreos en este modelo no generan mejores resultados, para este modelo se recomienda usar la versión original."
   ]
  },
  {
   "cell_type": "markdown",
   "metadata": {},
   "source": [
    "### MLPClassifier"
   ]
  },
  {
   "cell_type": "code",
   "execution_count": 123,
   "metadata": {},
   "outputs": [
    {
     "name": "stdout",
     "output_type": "stream",
     "text": [
      "AUC-ROC Score: 0.8147861280772675\n"
     ]
    },
    {
     "name": "stderr",
     "output_type": "stream",
     "text": [
      "c:\\Users\\antho\\anaconda3\\Lib\\site-packages\\sklearn\\neural_network\\_multilayer_perceptron.py:686: ConvergenceWarning: Stochastic Optimizer: Maximum iterations (200) reached and the optimization hasn't converged yet.\n",
      "  warnings.warn(\n"
     ]
    }
   ],
   "source": [
    "model_mlp = MLPClassifier(hidden_layer_sizes=(100, 50), activation='relu', solver='adam', random_state=1234)\n",
    "model_mlp.fit(features_train, target_train)\n",
    "predictions_mlp = model_mlp.predict_proba(features_valid)[:, 1]\n",
    "auc_roc_mlp = roc_auc_score(target_valid, predictions_mlp)\n",
    "print(\"AUC-ROC Score:\", auc_roc_mlp)"
   ]
  },
  {
   "cell_type": "markdown",
   "metadata": {},
   "source": [
    "- Con este modelo obtenemos un score de 0.81."
   ]
  },
  {
   "cell_type": "markdown",
   "metadata": {},
   "source": [
    "### Aplicando sobre y submuestreo"
   ]
  },
  {
   "cell_type": "code",
   "execution_count": 124,
   "metadata": {},
   "outputs": [
    {
     "name": "stdout",
     "output_type": "stream",
     "text": [
      "AUC-ROC Score: 0.8069816962222026\n"
     ]
    },
    {
     "name": "stderr",
     "output_type": "stream",
     "text": [
      "c:\\Users\\antho\\anaconda3\\Lib\\site-packages\\sklearn\\neural_network\\_multilayer_perceptron.py:686: ConvergenceWarning: Stochastic Optimizer: Maximum iterations (200) reached and the optimization hasn't converged yet.\n",
      "  warnings.warn(\n"
     ]
    }
   ],
   "source": [
    "model_mlp = MLPClassifier(hidden_layer_sizes=(100, 50), activation='relu', solver='adam', random_state=1234)\n",
    "model_mlp.fit(features_upsampled, target_upsampled)\n",
    "predictions_mlp = model_mlp.predict_proba(features_valid)[:, 1]\n",
    "auc_roc_mlp = roc_auc_score(target_valid, predictions_mlp)\n",
    "print(\"AUC-ROC Score:\", auc_roc_mlp)"
   ]
  },
  {
   "cell_type": "code",
   "execution_count": 125,
   "metadata": {},
   "outputs": [
    {
     "name": "stdout",
     "output_type": "stream",
     "text": [
      "AUC-ROC Score: 0.8082422734321468\n"
     ]
    },
    {
     "name": "stderr",
     "output_type": "stream",
     "text": [
      "c:\\Users\\antho\\anaconda3\\Lib\\site-packages\\sklearn\\neural_network\\_multilayer_perceptron.py:686: ConvergenceWarning: Stochastic Optimizer: Maximum iterations (200) reached and the optimization hasn't converged yet.\n",
      "  warnings.warn(\n"
     ]
    }
   ],
   "source": [
    "model_mlp = MLPClassifier(hidden_layer_sizes=(100, 50), activation='relu', solver='adam', random_state=1234)\n",
    "model_mlp.fit(features_downsampled, target_downsampled)\n",
    "predictions_mlp = model_mlp.predict_proba(features_valid)[:, 1]\n",
    "auc_roc_mlp = roc_auc_score(target_valid, predictions_mlp)\n",
    "print(\"AUC-ROC Score:\", auc_roc_mlp)"
   ]
  },
  {
   "cell_type": "markdown",
   "metadata": {},
   "source": [
    "- Los sobre y submuestreos en este modelo no generan mejores resultados, para este modelo se recomienda usar la versión original."
   ]
  },
  {
   "cell_type": "markdown",
   "metadata": {},
   "source": [
    "### Resultados"
   ]
  },
  {
   "cell_type": "code",
   "execution_count": 126,
   "metadata": {},
   "outputs": [
    {
     "name": "stdout",
     "output_type": "stream",
     "text": [
      "AUC-ROC Árbol de decisiones: 0.76\n",
      "AUC-ROC Regresión Bosque Aleatorio: 0.83\n",
      "AUC-ROC Regresión Lineal: 0.83\n",
      "AUC-ROC Light GBM: 0.83\n",
      "AUC-ROC Regresión Logística: 0.76\n",
      "AUC-ROC XGB Classifier: 0.83\n",
      "AUC-ROC KNeighbors Classifier: 0.82\n",
      "AUC-ROC MLP Classifier: 0.81\n"
     ]
    }
   ],
   "source": [
    "print('AUC-ROC Árbol de decisiones:', round(auc_roc_dtc_downsampled,2))\n",
    "print('AUC-ROC Regresión Bosque Aleatorio:', round(auc_roc_rfr,2))\n",
    "print('AUC-ROC Regresión Lineal:', round(auc_roc_lr,2))\n",
    "print('AUC-ROC Light GBM:', round(auc_roc_lgbm,2))\n",
    "print('AUC-ROC Regresión Logística:', round(auc_roc_log_r_upsampled,2))\n",
    "print('AUC-ROC XGB Classifier:', round(auc_roc_xgb,2))\n",
    "print('AUC-ROC KNeighbors Classifier:', round(auc_roc_kn,2))\n",
    "print('AUC-ROC MLP Classifier:', round(auc_roc_mlp,2))"
   ]
  },
  {
   "cell_type": "markdown",
   "metadata": {},
   "source": [
    "### Modelo Final"
   ]
  },
  {
   "cell_type": "markdown",
   "metadata": {},
   "source": [
    "- Se decide utilizar como modelo final, la Regresión Lineal, porque es de las más utilizadas y además por el tiempo de procesamiento que tiene, siendo uno de los más rápidos en procesar el modelo."
   ]
  },
  {
   "cell_type": "code",
   "execution_count": 127,
   "metadata": {},
   "outputs": [
    {
     "name": "stdout",
     "output_type": "stream",
     "text": [
      "AUC-ROC Score: 0.8301064851697761\n"
     ]
    }
   ],
   "source": [
    "model_lr = LinearRegression(fit_intercept=True)\n",
    "model_lr.fit(features_train, target_train)\n",
    "predictions_lr = model_lr.predict(features_valid)\n",
    "\n",
    "auc_roc_lr = roc_auc_score(target_valid, predictions_lr)\n",
    "\n",
    "print(\"AUC-ROC Score:\", auc_roc_lr)"
   ]
  },
  {
   "cell_type": "markdown",
   "metadata": {},
   "source": [
    "### Conclusiones Generales"
   ]
  },
  {
   "cell_type": "markdown",
   "metadata": {},
   "source": [
    "- Este proyecto se inicia con una introducción del problema que se quiere resolver.\n",
    "- Seguido, se importan las librerías y los 4 dataframes que se utilizarán en el proyecto.\n",
    "- Luego se encuentra el análisis exploratorio de cada dataframe, en donde se abordan los tipos de variables y valores ausentes.\n",
    "- Finalizado el paso anterior se unen todos los dataframes, y se proceden a corregir formatos, con el fin de obtener un mejor rendimiento de procesamiento.\n",
    "- El rellenar los valores ausentes fue el siguiente paso.\n",
    "- Seguido, se crea una función para 'end_date' con el fin de crear un valor booleano para identifcar a los activos de los que abandonaron la compañía. Esta columna será usado como nuevo 'target'.\n",
    "- Avanzando a través del proyecto se encuentraa luego el análisis a través de gráficos, se destaca que lo usuarios que dejaron de usar los servicios aportaron un 18% de la venta total, también que el método de pago de preferencia es el de 'Two year', y que el 67% prefiere facturación electrónica.\n",
    "- Otro dato relevante es que la concentración de usuarios nuevos y antiguos es muy notoria, eso quiere decir usuarios con menos de 12 meses en la compañía o con más de 5 años.\n",
    "- Para el entrenamiento de los modelos se utilizarán 8 características.\n",
    "- Se entrenaron 8 modelos.\n",
    "- Para cada modelo se utilizó el análisis a través del sub y sobremuestreo.\n",
    "- 5 de los modelos arrojaron un auc-roc de 0.83.\n",
    "- Dado la versatilidad y rapidez de procesamiento del modelo, se elige como mejor modelo la Regresión Lineal."
   ]
  }
 ],
 "metadata": {
  "kernelspec": {
   "display_name": "Python 3 (ipykernel)",
   "language": "python",
   "name": "python3"
  },
  "language_info": {
   "codemirror_mode": {
    "name": "ipython",
    "version": 3
   },
   "file_extension": ".py",
   "mimetype": "text/x-python",
   "name": "python",
   "nbconvert_exporter": "python",
   "pygments_lexer": "ipython3",
   "version": "3.9.5"
  },
  "toc": {
   "base_numbering": 1,
   "nav_menu": {},
   "number_sections": true,
   "sideBar": true,
   "skip_h1_title": true,
   "title_cell": "Table of Contents",
   "title_sidebar": "Contents",
   "toc_cell": false,
   "toc_position": {},
   "toc_section_display": true,
   "toc_window_display": false
  }
 },
 "nbformat": 4,
 "nbformat_minor": 2
}
